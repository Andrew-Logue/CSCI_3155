{
 "cells": [
  {
   "cell_type": "markdown",
   "id": "c6840332",
   "metadata": {},
   "source": [
    "Nat => zero\n",
    "    | succ(Nat)"
   ]
  },
  {
   "cell_type": "code",
   "execution_count": 4,
   "id": "31caa6ab",
   "metadata": {},
   "outputs": [
    {
     "data": {
      "text/plain": [
       "defined \u001b[32mtrait\u001b[39m \u001b[36mNat\u001b[39m\n",
       "defined \u001b[32mclass\u001b[39m \u001b[36mZero\u001b[39m\n",
       "defined \u001b[32mclass\u001b[39m \u001b[36mSucc\u001b[39m"
      ]
     },
     "execution_count": 4,
     "metadata": {},
     "output_type": "execute_result"
    }
   ],
   "source": [
    "/* Inductive data type Nat */\n",
    "\n",
    "sealed trait Nat\n",
    "case class Zero() extends Nat // Nat => Zero\n",
    "case class Succ(n: Nat) extends Nat"
   ]
  },
  {
   "cell_type": "code",
   "execution_count": 7,
   "id": "e0549749",
   "metadata": {},
   "outputs": [
    {
     "data": {
      "text/plain": [
       "defined \u001b[32mclass\u001b[39m \u001b[36mCat\u001b[39m"
      ]
     },
     "execution_count": 7,
     "metadata": {},
     "output_type": "execute_result"
    }
   ],
   "source": [
    "class Cat(val name: String){\n",
    "    override def toString = { \"Cat: \" + name}\n",
    "}"
   ]
  },
  {
   "cell_type": "code",
   "execution_count": 13,
   "id": "81b849d4",
   "metadata": {},
   "outputs": [
    {
     "data": {
      "text/plain": [
       "\u001b[36mnew_cat\u001b[39m: \u001b[32mCat\u001b[39m = Cat: Mr. Mistofelles\n",
       "\u001b[36mnew_cat2\u001b[39m: \u001b[32mCat\u001b[39m = Cat: Mr. Mistofelles\n",
       "\u001b[36mres12_2\u001b[39m: \u001b[32mBoolean\u001b[39m = false"
      ]
     },
     "execution_count": 13,
     "metadata": {},
     "output_type": "execute_result"
    }
   ],
   "source": [
    "val new_cat = new Cat(\"Mr. Mistofelles\")\n",
    "val new_cat2 = new Cat(\"Mr. Mistofelles\")\n",
    "new_cat == new_cat2"
   ]
  },
  {
   "cell_type": "code",
   "execution_count": 20,
   "id": "efc40671",
   "metadata": {},
   "outputs": [
    {
     "data": {
      "text/plain": [
       "defined \u001b[32mclass\u001b[39m \u001b[36mCaseCat\u001b[39m"
      ]
     },
     "execution_count": 20,
     "metadata": {},
     "output_type": "execute_result"
    }
   ],
   "source": [
    "case class CaseCat(val name: String)"
   ]
  },
  {
   "cell_type": "code",
   "execution_count": 21,
   "id": "63ae7a75",
   "metadata": {},
   "outputs": [
    {
     "data": {
      "text/plain": [
       "\u001b[36mnew_case_cat\u001b[39m: \u001b[32mCaseCat\u001b[39m = \u001b[33mCaseCat\u001b[39m(\u001b[32m\"Ms. Paws\"\u001b[39m)\n",
       "\u001b[36mnew_case_cat2\u001b[39m: \u001b[32mCaseCat\u001b[39m = \u001b[33mCaseCat\u001b[39m(\u001b[32m\"Ms. Paws\"\u001b[39m)\n",
       "\u001b[36mres20_2\u001b[39m: \u001b[32mBoolean\u001b[39m = true"
      ]
     },
     "execution_count": 21,
     "metadata": {},
     "output_type": "execute_result"
    }
   ],
   "source": [
    "val new_case_cat = CaseCat(\"Ms. Paws\")\n",
    "val new_case_cat2 =CaseCat(\"Ms. Paws\")\n",
    "new_case_cat == new_case_cat2"
   ]
  },
  {
   "cell_type": "code",
   "execution_count": null,
   "id": "e2d91bd6",
   "metadata": {},
   "outputs": [],
   "source": []
  }
 ],
 "metadata": {
  "kernelspec": {
   "display_name": "Scala 2.12",
   "language": "scala",
   "name": "scala212"
  },
  "language_info": {
   "codemirror_mode": "text/x-scala",
   "file_extension": ".scala",
   "mimetype": "text/x-scala",
   "name": "scala",
   "nbconvert_exporter": "script",
   "version": "2.12.10"
  }
 },
 "nbformat": 4,
 "nbformat_minor": 5
}
