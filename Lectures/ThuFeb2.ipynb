{
 "cells": [
  {
   "cell_type": "markdown",
   "id": "63facdd4-41e9-4a61-bc3b-63fb63aab469",
   "metadata": {},
   "source": [
    "Nat => Zero | Succ(Nat)"
   ]
  },
  {
   "cell_type": "code",
   "execution_count": 2,
   "id": "291211eb-1f8b-4efe-ac78-d86c2f9165ed",
   "metadata": {},
   "outputs": [
    {
     "data": {
      "text/plain": [
       "defined \u001b[32mtrait\u001b[39m \u001b[36mNat\u001b[39m"
      ]
     },
     "execution_count": 2,
     "metadata": {},
     "output_type": "execute_result"
    }
   ],
   "source": [
    "trait Nat // abstract class Nat"
   ]
  },
  {
   "cell_type": "code",
   "execution_count": 19,
   "id": "483c789f-0732-47bf-9b55-bda3166eb65c",
   "metadata": {},
   "outputs": [
    {
     "data": {
      "text/plain": [
       "defined \u001b[32mobject\u001b[39m \u001b[36mZero\u001b[39m\n",
       "defined \u001b[32mclass\u001b[39m \u001b[36mSucc\u001b[39m"
      ]
     },
     "execution_count": 19,
     "metadata": {},
     "output_type": "execute_result"
    }
   ],
   "source": [
    "case object Zero extends Nat // Nat => Zero\n",
    "case class Succ(n: Nat) extends Nat // Nat => Succ(Nat)"
   ]
  },
  {
   "cell_type": "code",
   "execution_count": 20,
   "id": "9c4745c8-b6b1-40f3-88bf-6ec1da31fc4e",
   "metadata": {},
   "outputs": [
    {
     "data": {
      "text/plain": [
       "\u001b[36mmy_first_number\u001b[39m: \u001b[32mZero\u001b[39m.type = Zero\n",
       "\u001b[36mnumber_two\u001b[39m: \u001b[32mSucc\u001b[39m = \u001b[33mSucc\u001b[39m(\u001b[33mSucc\u001b[39m(Zero))\n",
       "\u001b[36mother_two\u001b[39m: \u001b[32mSucc\u001b[39m = \u001b[33mSucc\u001b[39m(\u001b[33mSucc\u001b[39m(Zero))\n",
       "\u001b[36mres19_3\u001b[39m: \u001b[32mBoolean\u001b[39m = true\n",
       "\u001b[36mres19_4\u001b[39m: \u001b[32mBoolean\u001b[39m = false"
      ]
     },
     "execution_count": 20,
     "metadata": {},
     "output_type": "execute_result"
    }
   ],
   "source": [
    "val my_first_number = Zero\n",
    "val number_two = Succ(Succ(Zero))\n",
    "val other_two = Succ(Succ(Zero))\n",
    "\n",
    "number_two == other_two\n",
    "number_two == my_first_number"
   ]
  },
  {
   "cell_type": "code",
   "execution_count": 4,
   "id": "61246e8c-9cef-4c5f-8ecd-a75f5440bbb5",
   "metadata": {},
   "outputs": [
    {
     "data": {
      "text/plain": [
       "defined \u001b[32mclass\u001b[39m \u001b[36mMyCat\u001b[39m"
      ]
     },
     "execution_count": 4,
     "metadata": {},
     "output_type": "execute_result"
    }
   ],
   "source": [
    "case class MyCat(name: String)"
   ]
  },
  {
   "cell_type": "code",
   "execution_count": 9,
   "id": "147428b0-823a-4743-9faa-1760e06ad727",
   "metadata": {},
   "outputs": [
    {
     "data": {
      "text/plain": [
       "\u001b[36mnew_cat\u001b[39m: \u001b[32mMyCat\u001b[39m = \u001b[33mMyCat\u001b[39m(\u001b[32m\"Jenkins\"\u001b[39m)\n",
       "\u001b[36mnew_cat2\u001b[39m: \u001b[32mMyCat\u001b[39m = \u001b[33mMyCat\u001b[39m(\u001b[32m\"Meows\"\u001b[39m)\n",
       "\u001b[36mdoppelganger_cat\u001b[39m: \u001b[32mMyCat\u001b[39m = \u001b[33mMyCat\u001b[39m(\u001b[32m\"Jenkins\"\u001b[39m)"
      ]
     },
     "execution_count": 9,
     "metadata": {},
     "output_type": "execute_result"
    }
   ],
   "source": [
    "val new_cat: MyCat =  MyCat(\"Jenkins\")\n",
    "val new_cat2: MyCat = MyCat(\"Meows\")\n",
    "val doppelganger_cat:MyCat =  MyCat(\"Jenkins\")"
   ]
  },
  {
   "cell_type": "code",
   "execution_count": 7,
   "id": "c0ce1e6f-1a40-4391-abc3-26e79a4ddb83",
   "metadata": {},
   "outputs": [
    {
     "data": {
      "text/plain": [
       "\u001b[36mres6_0\u001b[39m: \u001b[32mBoolean\u001b[39m = false\n",
       "\u001b[36mres6_1\u001b[39m: \u001b[32mBoolean\u001b[39m = true"
      ]
     },
     "execution_count": 7,
     "metadata": {},
     "output_type": "execute_result"
    }
   ],
   "source": [
    "new_cat == new_cat2\n",
    "new_cat == doppelganger_cat"
   ]
  },
  {
   "cell_type": "markdown",
   "id": "3b565a17-c1ee-44a9-9981-c6c56895c619",
   "metadata": {},
   "source": [
    "### Grammar\n",
    "\n",
    "ListOfNumbers => MyNil | MyCons(__Integer__, ListOfNumbers)\n",
    "\n"
   ]
  },
  {
   "cell_type": "code",
   "execution_count": 30,
   "id": "47481411-64dd-41f0-8d37-98d2bce0a557",
   "metadata": {},
   "outputs": [
    {
     "data": {
      "text/plain": [
       "defined \u001b[32mtrait\u001b[39m \u001b[36mListOfNumbers\u001b[39m\n",
       "defined \u001b[32mobject\u001b[39m \u001b[36mMyNil\u001b[39m\n",
       "defined \u001b[32mclass\u001b[39m \u001b[36mMyCons\u001b[39m"
      ]
     },
     "execution_count": 30,
     "metadata": {},
     "output_type": "execute_result"
    }
   ],
   "source": [
    "sealed trait ListOfNumbers \n",
    "case object MyNil extends ListOfNumbers\n",
    "case class MyCons(hd: Int, tail: ListOfNumbers) extends ListOfNumbers"
   ]
  },
  {
   "cell_type": "code",
   "execution_count": 25,
   "id": "e1f91e11-bb29-40c0-9c8d-6b76f1b2f37f",
   "metadata": {},
   "outputs": [
    {
     "data": {
      "text/plain": [
       "\u001b[36mmy_list\u001b[39m: \u001b[32mMyCons\u001b[39m = \u001b[33mMyCons\u001b[39m(\u001b[32m4\u001b[39m, MyNil)\n",
       "\u001b[36mmy_list2\u001b[39m: \u001b[32mMyCons\u001b[39m = \u001b[33mMyCons\u001b[39m(\u001b[32m4\u001b[39m, \u001b[33mMyCons\u001b[39m(\u001b[32m5\u001b[39m, \u001b[33mMyCons\u001b[39m(\u001b[32m7\u001b[39m, MyNil)))"
      ]
     },
     "execution_count": 25,
     "metadata": {},
     "output_type": "execute_result"
    }
   ],
   "source": [
    "val my_list = MyCons( 4, MyNil) // [4]\n",
    "val my_list2 = MyCons(4, MyCons(5, MyCons(7, MyNil)))"
   ]
  },
  {
   "cell_type": "code",
   "execution_count": 27,
   "id": "63ce99ca-0172-46d1-b908-8390a6f1c02b",
   "metadata": {},
   "outputs": [
    {
     "data": {
      "text/plain": [
       "\u001b[36mlist\u001b[39m: \u001b[32mList\u001b[39m[\u001b[32mInt\u001b[39m] = \u001b[33mList\u001b[39m(\u001b[32m1\u001b[39m, \u001b[32m2\u001b[39m, \u001b[32m3\u001b[39m, \u001b[32m4\u001b[39m, \u001b[32m6\u001b[39m)"
      ]
     },
     "execution_count": 27,
     "metadata": {},
     "output_type": "execute_result"
    }
   ],
   "source": [
    "val list = 1::2::3::4::6::Nil // List(1, 2, 3, 5, 6)"
   ]
  },
  {
   "cell_type": "code",
   "execution_count": 31,
   "id": "7b4f8df0-05dc-4b66-913f-f4e59e1616d0",
   "metadata": {},
   "outputs": [
    {
     "data": {
      "text/plain": [
       "defined \u001b[32mfunction\u001b[39m \u001b[36mhead\u001b[39m"
      ]
     },
     "execution_count": 31,
     "metadata": {},
     "output_type": "execute_result"
    }
   ],
   "source": [
    "def head(lst: ListOfNumbers): Int = lst match {\n",
    "   //is of the form\n",
    "    case MyNil => {\n",
    "        throw new IllegalArgumentException(\"blah blah blah\")\n",
    "    }\n",
    "    case MyCons(hd, tail) => {\n",
    "        hd\n",
    "    }\n",
    "    \n",
    "    //case MyCat(cat) => throw new IllegalArgumentException(\" I do not know \")\n",
    "    \n",
    "    case _ => throw new IllegalArgumentException(\" I do not know \")\n",
    "    \n",
    "}"
   ]
  },
  {
   "cell_type": "code",
   "execution_count": 33,
   "id": "b5d69447-28f1-49b2-ba4b-ec993c177b9e",
   "metadata": {},
   "outputs": [
    {
     "data": {
      "text/plain": [
       "defined \u001b[32mfunction\u001b[39m \u001b[36msecond\u001b[39m"
      ]
     },
     "execution_count": 33,
     "metadata": {},
     "output_type": "execute_result"
    }
   ],
   "source": [
    "def second(lst: ListOfNumbers): Int = lst match {\n",
    "    case MyNil => throw new IllegalArgumentException(\" empty list \") \n",
    "    case MyCons( _ , MyNil) => throw new IllegalArgumentException(\" single elt. list \") \n",
    "    case MyCons(_ , MyCons(hd2, _ ) ) => {\n",
    "        hd2\n",
    "    }\n",
    "}"
   ]
  },
  {
   "cell_type": "code",
   "execution_count": 41,
   "id": "c0a4c859-9ed3-4e8d-baa1-94a663126558",
   "metadata": {},
   "outputs": [
    {
     "data": {
      "text/plain": [
       "defined \u001b[32mclass\u001b[39m \u001b[36mMySpecialException\u001b[39m\n",
       "defined \u001b[32mfunction\u001b[39m \u001b[36mith_elt\u001b[39m"
      ]
     },
     "execution_count": 41,
     "metadata": {},
     "output_type": "execute_result"
    }
   ],
   "source": [
    "class MySpecialException(msg: String) extends Exception\n",
    "\n",
    "def ith_elt(lst: ListOfNumbers, i: Int ): Int = {\n",
    "    require( i >= 0)\n",
    "    lst match {\n",
    "        case MyNil => throw new MySpecialException(\" empty \")\n",
    "        case MyCons(hd, MyNil) => {\n",
    "            if (i == 0) {\n",
    "                hd\n",
    "            } else {\n",
    "                throw new MySpecialException(\" single elt. list --> i exceeds list bounds. \")\n",
    "            }\n",
    "        }\n",
    "        case MyCons(hd, tail) => {\n",
    "                if (i == 0){\n",
    "                   hd\n",
    "                } else {\n",
    "                   ith_elt(tail, i-1) \n",
    "                }\n",
    "        }\n",
    "    }\n",
    "}"
   ]
  },
  {
   "cell_type": "code",
   "execution_count": 42,
   "id": "c8332863-d62c-42d9-bc5e-f89628d526a9",
   "metadata": {},
   "outputs": [
    {
     "ename": "",
     "evalue": "",
     "output_type": "error",
     "traceback": [
      "\u001b[31mammonite.$sess.cmd40$Helper$MySpecialException\u001b[39m\n  ammonite.$sess.cmd40$Helper.ith_elt(\u001b[32mcmd40.sc\u001b[39m:\u001b[32m11\u001b[39m)\n  ammonite.$sess.cmd41$Helper.<init>(\u001b[32mcmd41.sc\u001b[39m:\u001b[32m2\u001b[39m)\n  ammonite.$sess.cmd41$.<clinit>(\u001b[32mcmd41.sc\u001b[39m:\u001b[32m7\u001b[39m)"
     ]
    }
   ],
   "source": [
    "val my_list2 = MyCons(4, MyCons(5, MyCons(7, MyNil)))\n",
    "val x = ith_elt(my_list2, 5)"
   ]
  },
  {
   "cell_type": "code",
   "execution_count": 45,
   "id": "cfeca17f-934b-427a-8ee0-de817ecfe887",
   "metadata": {},
   "outputs": [
    {
     "data": {
      "text/plain": [
       "defined \u001b[32mfunction\u001b[39m \u001b[36mall_positive\u001b[39m"
      ]
     },
     "execution_count": 45,
     "metadata": {},
     "output_type": "execute_result"
    }
   ],
   "source": [
    "def all_positive(lst: ListOfNumbers): Boolean = lst match {\n",
    "    case MyNil => true\n",
    "    case MyCons(hd, tail) if (hd > 0) => all_positive(tail)\n",
    "    case _ => false\n",
    "}"
   ]
  },
  {
   "cell_type": "code",
   "execution_count": null,
   "id": "93d3f99c-49a5-4cda-a25c-d99b6a6a5026",
   "metadata": {},
   "outputs": [],
   "source": []
  }
 ],
 "metadata": {
  "kernelspec": {
   "display_name": "Scala",
   "language": "scala",
   "name": "scala"
  },
  "language_info": {
   "codemirror_mode": "text/x-scala",
   "file_extension": ".sc",
   "mimetype": "text/x-scala",
   "name": "scala",
   "nbconvert_exporter": "script",
   "version": "2.13.3"
  }
 },
 "nbformat": 4,
 "nbformat_minor": 5
}
