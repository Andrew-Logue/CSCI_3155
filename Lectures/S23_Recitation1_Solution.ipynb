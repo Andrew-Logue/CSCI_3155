{
 "cells": [
  {
   "cell_type": "markdown",
   "id": "2c67a30c",
   "metadata": {},
   "source": [
    "# Recitation Week 1\n",
    "\n",
    "The main focus of this recitation is to familiarize with the basics of Scala. We will work with variables, loops, conditionals and classes.  \n",
    "\n",
    "### Pre-requisite: \n",
    "\n",
    "1. Have scala setup on local or in coding.csel.io (If not get the setup done as soon as possible. Instructions can be found in Canvas: https://canvas.colorado.edu/courses/91218/pages/resources)\n",
    "2. Download the recitation material from Canvas. "
   ]
  },
  {
   "cell_type": "markdown",
   "id": "9b9e6d5e",
   "metadata": {},
   "source": [
    "## Exercise 1\n",
    "\n",
    "Check if the given two lists are reverse of each other. For this exercise you can assume that the given lists will be of same size. (In real world scenarios, it may not be the case)"
   ]
  },
  {
   "cell_type": "code",
   "execution_count": 1,
   "id": "9f38ca08",
   "metadata": {},
   "outputs": [
    {
     "data": {
      "text/plain": [
       "\u001b[36ml1\u001b[39m: \u001b[32mList\u001b[39m[\u001b[32mInt\u001b[39m] = \u001b[33mList\u001b[39m(\u001b[32m1\u001b[39m, \u001b[32m2\u001b[39m, \u001b[32m3\u001b[39m, \u001b[32m4\u001b[39m, \u001b[32m5\u001b[39m)\n",
       "\u001b[36ml2\u001b[39m: \u001b[32mList\u001b[39m[\u001b[32mInt\u001b[39m] = \u001b[33mList\u001b[39m(\u001b[32m5\u001b[39m, \u001b[32m4\u001b[39m, \u001b[32m3\u001b[39m, \u001b[32m2\u001b[39m, \u001b[32m1\u001b[39m)\n",
       "\u001b[36ml3\u001b[39m: \u001b[32mList\u001b[39m[\u001b[32mInt\u001b[39m] = \u001b[33mList\u001b[39m(\u001b[32m1\u001b[39m, \u001b[32m2\u001b[39m, \u001b[32m3\u001b[39m)\n",
       "\u001b[36ml4\u001b[39m: \u001b[32mList\u001b[39m[\u001b[32mInt\u001b[39m] = \u001b[33mList\u001b[39m(\u001b[32m2\u001b[39m, \u001b[32m3\u001b[39m, \u001b[32m4\u001b[39m)"
      ]
     },
     "execution_count": 1,
     "metadata": {},
     "output_type": "execute_result"
    }
   ],
   "source": [
    "val l1 = List(1, 2, 3, 4, 5) \n",
    "val l2 = List(5, 4, 3, 2, 1)\n",
    "val l3 = List(1, 2, 3)\n",
    "val l4 = List(2, 3, 4)\n",
    "\n",
    "// Note : Here, all the list variables are vals (immutable)\n",
    "// Curious? On what happens if we declare them as vars? (mutable)"
   ]
  },
  {
   "cell_type": "code",
   "execution_count": 1,
   "id": "e46e1abf",
   "metadata": {},
   "outputs": [],
   "source": [
    "// Space to explore the above curiosity"
   ]
  },
  {
   "cell_type": "code",
   "execution_count": 2,
   "id": "0d45fbc7",
   "metadata": {},
   "outputs": [
    {
     "data": {
      "text/plain": [
       "\u001b[36ml1\u001b[39m: \u001b[32mList\u001b[39m[\u001b[32mInt\u001b[39m] = \u001b[33mList\u001b[39m(\u001b[32m1\u001b[39m, \u001b[32m2\u001b[39m, \u001b[32m3\u001b[39m, \u001b[32m4\u001b[39m, \u001b[32m5\u001b[39m)\n",
       "\u001b[36ml2\u001b[39m: \u001b[32mList\u001b[39m[\u001b[32mInt\u001b[39m] = \u001b[33mList\u001b[39m(\u001b[32m5\u001b[39m, \u001b[32m4\u001b[39m, \u001b[32m3\u001b[39m, \u001b[32m2\u001b[39m, \u001b[32m1\u001b[39m)\n",
       "\u001b[36ml3\u001b[39m: \u001b[32mList\u001b[39m[\u001b[32mInt\u001b[39m] = \u001b[33mList\u001b[39m(\u001b[32m1\u001b[39m, \u001b[32m2\u001b[39m, \u001b[32m3\u001b[39m)\n",
       "\u001b[36ml4\u001b[39m: \u001b[32mList\u001b[39m[\u001b[32mInt\u001b[39m] = \u001b[33mList\u001b[39m(\u001b[32m2\u001b[39m, \u001b[32m3\u001b[39m, \u001b[32m4\u001b[39m)"
      ]
     },
     "execution_count": 2,
     "metadata": {},
     "output_type": "execute_result"
    }
   ],
   "source": [
    "// Redeclaring the lists for sanity\n",
    "val l1 = List(1, 2, 3, 4, 5) \n",
    "val l2 = List(5, 4, 3, 2, 1)\n",
    "val l3 = List(1, 2, 3)\n",
    "val l4 = List(2, 3, 4)"
   ]
  },
  {
   "cell_type": "code",
   "execution_count": 3,
   "id": "ffc37839",
   "metadata": {},
   "outputs": [
    {
     "data": {
      "text/plain": [
       "defined \u001b[32mfunction\u001b[39m \u001b[36mcheckReversed\u001b[39m"
      ]
     },
     "execution_count": 3,
     "metadata": {},
     "output_type": "execute_result"
    }
   ],
   "source": [
    "// Method 1: using loops\n",
    "def checkReversed(l1: List[Int], l2: List[Int]): Boolean = {\n",
    "    // BEGIN Solution\n",
    "    var listLen = l1.length\n",
    "    for (idx <- 0 to listLen-1){\n",
    "        if (l1(idx) != l2(listLen-idx-1)) return false\n",
    "    }\n",
    "    true\n",
    "    // END Solution\n",
    "}"
   ]
  },
  {
   "cell_type": "code",
   "execution_count": 4,
   "id": "147f21fe",
   "metadata": {},
   "outputs": [],
   "source": [
    "/* \n",
    "Assert is used to check if our function returns the value that is expected. \n",
    "If not the error message (second param) will be displayed. \n",
    "\n",
    "Try to change the RHS from true to false in the first assert and run the cell again to see the error message\n",
    "*/\n",
    "assert(checkReversed(l1, l2)==true, \"List 1 is a reverse of List 2\")\n",
    "assert(checkReversed(l3, l4)==false, \"List 3 is not a reverse of List 4\")"
   ]
  },
  {
   "cell_type": "code",
   "execution_count": 5,
   "id": "29eb2bbb",
   "metadata": {},
   "outputs": [
    {
     "data": {
      "text/plain": [
       "defined \u001b[32mfunction\u001b[39m \u001b[36mcheckReversedAPI\u001b[39m"
      ]
     },
     "execution_count": 5,
     "metadata": {},
     "output_type": "execute_result"
    }
   ],
   "source": [
    "// Method 2: Using API\n",
    "def checkReversedAPI(l1: List[Int], l2: List[Int]): Boolean = {\n",
    "    // BEGIN Solution\n",
    "    l1.reverse == l2\n",
    "    // END Solution\n",
    "}"
   ]
  },
  {
   "cell_type": "code",
   "execution_count": 6,
   "id": "bda86292",
   "metadata": {},
   "outputs": [],
   "source": [
    "assert(checkReversedAPI(l1, l2)==true, \"List 1 is a reverse of List 2\")\n",
    "assert(checkReversedAPI(l3, l4)==false, \"List 3 is not a reverse of List 4\")"
   ]
  },
  {
   "cell_type": "markdown",
   "id": "e9258ff1",
   "metadata": {},
   "source": [
    "## Exercise 2 : Complexity Analysis: Using List addition\n",
    "\n",
    "The function addLists given below takes two entries in a list and add's the entries one by one. What is the complexity of the overall function? How? \n",
    "\n",
    "##### Note: \n",
    "Though Scala is capable of inferring the type of variable, most of the times it is better to explicitly specify the \n",
    "type of a var/ val. This is called as Type annotation. Refer this doc to learn more on type annotations: https://docs.scala-lang.org/style/types.html"
   ]
  },
  {
   "cell_type": "code",
   "execution_count": 7,
   "id": "d2f2279c",
   "metadata": {},
   "outputs": [
    {
     "data": {
      "text/plain": [
       "\u001b[32mimport \u001b[39m\u001b[36mjava.time.LocalTime\n",
       "\u001b[39m\n",
       "\u001b[32mimport \u001b[39m\u001b[36mjava.time.temporal._\u001b[39m"
      ]
     },
     "execution_count": 7,
     "metadata": {},
     "output_type": "execute_result"
    }
   ],
   "source": [
    "import java.time.LocalTime\n",
    "import java.time.temporal._"
   ]
  },
  {
   "cell_type": "code",
   "execution_count": 8,
   "id": "bbd6930e",
   "metadata": {},
   "outputs": [
    {
     "data": {
      "text/plain": [
       "defined \u001b[32mfunction\u001b[39m \u001b[36mcalculateTimeElapsed\u001b[39m"
      ]
     },
     "execution_count": 8,
     "metadata": {},
     "output_type": "execute_result"
    }
   ],
   "source": [
    "// Helper method\n",
    "def calculateTimeElapsed(fn: (List[Int], List[Int]) => List[Int])(l1: List[Int], l2:List[Int]): List[Int] = {\n",
    "    val startTime = LocalTime.now()\n",
    "    val res = fn(l1, l2)\n",
    "    val endTime = LocalTime.now()\n",
    "    val diff = startTime.until(endTime, ChronoUnit.MILLIS)\n",
    "    println(s\"Time taken : $diff milli seconds\")\n",
    "    res\n",
    "}"
   ]
  },
  {
   "cell_type": "code",
   "execution_count": 9,
   "id": "742445d3",
   "metadata": {},
   "outputs": [
    {
     "data": {
      "text/plain": [
       "defined \u001b[32mfunction\u001b[39m \u001b[36maddListsNaive\u001b[39m"
      ]
     },
     "execution_count": 9,
     "metadata": {},
     "output_type": "execute_result"
    }
   ],
   "source": [
    "def addListsNaive(l1: List[Int], l2: List[Int]): List[Int] = {\n",
    "    val listLen = l1.length\n",
    "    var result: List[Int] = Nil\n",
    "    \n",
    "    /*\n",
    "    1. Use :+ operation for list manipulation\n",
    "    2. Access entries in the list using an index \n",
    "    */\n",
    "    \n",
    "    // BEGIN Solution\n",
    "    for (i <- 0 to listLen-1) {\n",
    "        result = result :+ l1(i) + l2(i)\n",
    "    }\n",
    "    // END Solution\n",
    "    \n",
    "    result\n",
    "}"
   ]
  },
  {
   "cell_type": "code",
   "execution_count": 10,
   "id": "4c1297bb",
   "metadata": {},
   "outputs": [
    {
     "data": {
      "text/plain": [
       "\u001b[36mlist1\u001b[39m: \u001b[32mList\u001b[39m[\u001b[32mInt\u001b[39m] = \u001b[33mList\u001b[39m(\n",
       "  \u001b[32m1\u001b[39m,\n",
       "  \u001b[32m2\u001b[39m,\n",
       "  \u001b[32m3\u001b[39m,\n",
       "  \u001b[32m4\u001b[39m,\n",
       "  \u001b[32m5\u001b[39m,\n",
       "  \u001b[32m6\u001b[39m,\n",
       "  \u001b[32m7\u001b[39m,\n",
       "  \u001b[32m8\u001b[39m,\n",
       "  \u001b[32m9\u001b[39m,\n",
       "  \u001b[32m10\u001b[39m,\n",
       "  \u001b[32m11\u001b[39m,\n",
       "  \u001b[32m12\u001b[39m,\n",
       "  \u001b[32m13\u001b[39m,\n",
       "  \u001b[32m14\u001b[39m,\n",
       "  \u001b[32m15\u001b[39m,\n",
       "  \u001b[32m16\u001b[39m,\n",
       "  \u001b[32m17\u001b[39m,\n",
       "  \u001b[32m18\u001b[39m,\n",
       "  \u001b[32m19\u001b[39m,\n",
       "  \u001b[32m20\u001b[39m,\n",
       "  \u001b[32m21\u001b[39m,\n",
       "  \u001b[32m22\u001b[39m,\n",
       "  \u001b[32m23\u001b[39m,\n",
       "  \u001b[32m24\u001b[39m,\n",
       "  \u001b[32m25\u001b[39m,\n",
       "  \u001b[32m26\u001b[39m,\n",
       "  \u001b[32m27\u001b[39m,\n",
       "  \u001b[32m28\u001b[39m,\n",
       "  \u001b[32m29\u001b[39m,\n",
       "  \u001b[32m30\u001b[39m,\n",
       "  \u001b[32m31\u001b[39m,\n",
       "  \u001b[32m32\u001b[39m,\n",
       "  \u001b[32m33\u001b[39m,\n",
       "  \u001b[32m34\u001b[39m,\n",
       "  \u001b[32m35\u001b[39m,\n",
       "  \u001b[32m36\u001b[39m,\n",
       "  \u001b[32m37\u001b[39m,\n",
       "  \u001b[32m38\u001b[39m,\n",
       "...\n",
       "\u001b[36mlist2\u001b[39m: \u001b[32mList\u001b[39m[\u001b[32mInt\u001b[39m] = \u001b[33mList\u001b[39m(\n",
       "  \u001b[32m100001\u001b[39m,\n",
       "  \u001b[32m100002\u001b[39m,\n",
       "  \u001b[32m100003\u001b[39m,\n",
       "  \u001b[32m100004\u001b[39m,\n",
       "  \u001b[32m100005\u001b[39m,\n",
       "  \u001b[32m100006\u001b[39m,\n",
       "  \u001b[32m100007\u001b[39m,\n",
       "  \u001b[32m100008\u001b[39m,\n",
       "  \u001b[32m100009\u001b[39m,\n",
       "  \u001b[32m100010\u001b[39m,\n",
       "  \u001b[32m100011\u001b[39m,\n",
       "  \u001b[32m100012\u001b[39m,\n",
       "  \u001b[32m100013\u001b[39m,\n",
       "  \u001b[32m100014\u001b[39m,\n",
       "  \u001b[32m100015\u001b[39m,\n",
       "  \u001b[32m100016\u001b[39m,\n",
       "  \u001b[32m100017\u001b[39m,\n",
       "  \u001b[32m100018\u001b[39m,\n",
       "  \u001b[32m100019\u001b[39m,\n",
       "  \u001b[32m100020\u001b[39m,\n",
       "  \u001b[32m100021\u001b[39m,\n",
       "  \u001b[32m100022\u001b[39m,\n",
       "  \u001b[32m100023\u001b[39m,\n",
       "  \u001b[32m100024\u001b[39m,\n",
       "  \u001b[32m100025\u001b[39m,\n",
       "  \u001b[32m100026\u001b[39m,\n",
       "  \u001b[32m100027\u001b[39m,\n",
       "  \u001b[32m100028\u001b[39m,\n",
       "  \u001b[32m100029\u001b[39m,\n",
       "  \u001b[32m100030\u001b[39m,\n",
       "  \u001b[32m100031\u001b[39m,\n",
       "  \u001b[32m100032\u001b[39m,\n",
       "  \u001b[32m100033\u001b[39m,\n",
       "  \u001b[32m100034\u001b[39m,\n",
       "  \u001b[32m100035\u001b[39m,\n",
       "  \u001b[32m100036\u001b[39m,\n",
       "  \u001b[32m100037\u001b[39m,\n",
       "  \u001b[32m100038\u001b[39m,\n",
       "..."
      ]
     },
     "execution_count": 10,
     "metadata": {},
     "output_type": "execute_result"
    }
   ],
   "source": [
    "val list1 = (1 to 100000).toList\n",
    "val list2 = (100001 to 200000).toList"
   ]
  },
  {
   "cell_type": "code",
   "execution_count": null,
   "id": "41c6ef25",
   "metadata": {},
   "outputs": [],
   "source": [
    "// Calculate time taken\n",
    "// Note: Incase this keeps on running interrupt the execution. \n",
    "// Reference: https://jupyter-notebook.readthedocs.io/en/stable/notebook.html#basic-workflow\n",
    "val res = calculateTimeElapsed(addListsNaive)(list1, list2)"
   ]
  },
  {
   "cell_type": "markdown",
   "id": "83d87d8d",
   "metadata": {},
   "source": [
    "### What is the complexity of the above approach and how? How? \n",
    "\n",
    "The complexity of the above approach is O(n^2). \n",
    "\n",
    "The :+ operator takes O(n) time for each operation. In Scala, Lists are implemented using linked lists rather than arrays/ vectors. So, whenever we access a particular index in a list it again is O(n) operation. So, the code result = result :+ l1(i) + l2(i) takes O(3n) ~ O(n) time. This operation when done inside a loop results in O(n^2) time.\n",
    "\n",
    "\n",
    "### How do we improve the complexity?\n",
    "\n",
    "The main bottlenecks that we face in the above approach are:\n",
    "\n",
    "1. O(n) time taken by :+ operation\n",
    "2. O(n) time taken to access a particular index in a list\n",
    "\n",
    "Eliminating above bottlenecks can result in better time complexity. There are several ways to achieve a better complexity. \n",
    "\n",
    "### Better approach 1:\n",
    "\n",
    "1. Use Cons (::) operator and reverse the result\n",
    "2. Zip the lists together and iterate over the zipped list\n",
    "\n",
    "###### Syntax for cons:\n",
    "newElement :: existingList\n",
    "\n",
    "###### Note: \n",
    "If we use the cons operator, the output might not be in the order that we expect. In that case we can either,\n",
    "\n",
    "1) reverse the final output that we get (or)\n",
    "\n",
    "2) reverse the input and then do the operations that we want.\n",
    "\n",
    "Reference: https://www.scala-lang.org/api/current/scala/collection/immutable/List.html\n",
    "Learn more about perfo"
   ]
  },
  {
   "cell_type": "code",
   "execution_count": null,
   "id": "2294a65e",
   "metadata": {},
   "outputs": [],
   "source": [
    "def addListsBetter(l1: List[Int], l2: List[Int]): List[Int] = {\n",
    "    var result: List[Int] = Nil\n",
    "    // BEGIN Solution\n",
    "    val zippedList = l1.zip(l2) // or l1 zip l2\n",
    "    for (entry <- zippedList){\n",
    "        result = (entry._1 + entry._2) :: result \n",
    "    }\n",
    "    result.reverse\n",
    "    // END Solution\n",
    "}"
   ]
  },
  {
   "cell_type": "code",
   "execution_count": null,
   "id": "5df37cd2",
   "metadata": {},
   "outputs": [],
   "source": [
    "// Calculate time taken\n",
    "val res = calculateTimeElapsed(addListsBetter)(list1, list2)"
   ]
  },
  {
   "cell_type": "markdown",
   "id": "8dfd879c",
   "metadata": {},
   "source": [
    "## A flavour of functors"
   ]
  },
  {
   "cell_type": "code",
   "execution_count": null,
   "id": "ed594a39",
   "metadata": {},
   "outputs": [],
   "source": [
    "def addListsFunctor(l1: List[Int], l2: List[Int]): List[Int] = {\n",
    "    l1.zip(l2).map { case (e1, e2) => e1 + e2 } // or l1.zip(l2).map (e => e._1 + e._2 )\n",
    "}"
   ]
  },
  {
   "cell_type": "code",
   "execution_count": null,
   "id": "d7a5a141",
   "metadata": {},
   "outputs": [],
   "source": [
    "// Calculate time taken\n",
    "val res = calculateTimeElapsed(addListsFunctor)(list1, list2)"
   ]
  },
  {
   "cell_type": "markdown",
   "id": "2eadecf0",
   "metadata": {},
   "source": [
    "## Exercise 3\n",
    "\n",
    "Complete the gradeCalculator method below. The method returns grades according to the percentage of marks based on the following criteria: \n",
    "\n",
    "1. For 0 to 50 percentage, return \"Grade D\"\n",
    "2. For 51 to 75 percentage, return \"Grade C\"\n",
    "3. For 76 to 90 percentage, return \"Grade B\"\n",
    "4. For 91 to 100 percentage, return \"Grade A\""
   ]
  },
  {
   "cell_type": "code",
   "execution_count": null,
   "id": "716fa1f3",
   "metadata": {},
   "outputs": [],
   "source": [
    "def gradeCalculator(p: Double): String = {\n",
    "    // BEGIN Solution\n",
    "    if (p >= 0 && p <= 50) \"Grade D\"\n",
    "    else if (p > 50 && p <= 75) \"Grade C\"\n",
    "    else if (p > 75 && p <= 90) \"Grade B\"\n",
    "    else \"Grade A\"\n",
    "    // END Solution\n",
    "}"
   ]
  },
  {
   "cell_type": "code",
   "execution_count": null,
   "id": "c3216bfc",
   "metadata": {},
   "outputs": [],
   "source": [
    "assert(gradeCalculator(25)==\"Grade D\", \"Result should be 'Grade D'\")\n",
    "assert(gradeCalculator(55)==\"Grade C\", \"Result should be 'Grade C'\")\n",
    "assert(gradeCalculator(83)==\"Grade B\", \"Result should be 'Grade B'\")\n",
    "assert(gradeCalculator(97)==\"Grade A\", \"Result should be 'Grade A'\")"
   ]
  },
  {
   "cell_type": "markdown",
   "id": "71cb7118",
   "metadata": {},
   "source": [
    "## A flavour of Scala Class\n",
    "\n",
    "Let's create a restaurant menu and have a method for customers to order. "
   ]
  },
  {
   "cell_type": "code",
   "execution_count": null,
   "id": "5fee9e33",
   "metadata": {},
   "outputs": [],
   "source": [
    "/* Classes can have methods inside them */\n",
    "class Restaurant() {\n",
    "    \n",
    "    //available items\n",
    "    var menuItems = List(\"Chicken masala\", \"Paneer Briyani\", \"Lasagna\", \"Cheese Burger\")\n",
    "    var stock = List((\"Chicken masala\", 3, 20),(\"Paneer Briyani\", 4, 25), (\"Lasagna\", 5, 15), (\"Cheese Burger\", 10, 18))\n",
    "    \n",
    "    def placeOrder(name: String, spiceLevel: String, quantity: Int): Unit = {\n",
    "        /* Print the order */\n",
    "        // Assume that we always have the requested quantity available for simplicity\n",
    "        \n",
    "        var id : Int = -1\n",
    "        // Step 1: Find the index of the item requested\n",
    "        for (idx <- 0 to menuItems.length-1) {\n",
    "            if (menuItems(idx) == name) id = idx\n",
    "        }\n",
    "        if (id < 0) throw new Exception(\"Please provide an item from the menu provided..\")\n",
    "        \n",
    "        // Step 2: Calculate the total cost of the order\n",
    "        val total = quantity * stock(id)._3\n",
    "        \n",
    "        // Step 3: Update the stock available\n",
    "        val newQuantity = stock(id)._2 - quantity\n",
    "        stock = stock.updated(id, (stock(id)._1, newQuantity, stock(id)._3))\n",
    "        \n",
    "        println(s\"You ordered ${name}, with spice level ${spiceLevel} and ${quantity} plates\")\n",
    "        println(s\"Your Bill is ${total} dollars\")\n",
    "        println(s\"New Stock for ${name} is ${stock(id)._2}\")\n",
    "        \n",
    "    }    \n",
    "}"
   ]
  },
  {
   "cell_type": "code",
   "execution_count": null,
   "id": "b577df20",
   "metadata": {},
   "outputs": [],
   "source": [
    "val rest = new Restaurant()"
   ]
  },
  {
   "cell_type": "code",
   "execution_count": null,
   "id": "25615dca",
   "metadata": {},
   "outputs": [],
   "source": [
    "rest.placeOrder(\"Chicken masala\", \"Medium\", 1)"
   ]
  },
  {
   "cell_type": "code",
   "execution_count": null,
   "id": "0efa51c0",
   "metadata": {},
   "outputs": [],
   "source": [
    "rest.placeOrder(\"Paneer Briyani\", \"High\", 2)"
   ]
  },
  {
   "cell_type": "code",
   "execution_count": null,
   "id": "2ec83e46",
   "metadata": {},
   "outputs": [],
   "source": [
    "rest.placeOrder(\"Paneer Briyani\", \"Medium\", 1)"
   ]
  },
  {
   "cell_type": "code",
   "execution_count": null,
   "id": "b04bd168",
   "metadata": {},
   "outputs": [],
   "source": [
    "rest.placeOrder(\"Not Listed\", \"Medium\", 1)"
   ]
  },
  {
   "cell_type": "markdown",
   "id": "9525b668",
   "metadata": {},
   "source": [
    "# That's all folks !!"
   ]
  }
 ],
 "metadata": {
  "kernelspec": {
   "display_name": "Scala 2.12",
   "language": "scala",
   "name": "scala212"
  },
  "language_info": {
   "codemirror_mode": "text/x-scala",
   "file_extension": ".scala",
   "mimetype": "text/x-scala",
   "name": "scala",
   "nbconvert_exporter": "script",
   "version": "2.12.10"
  }
 },
 "nbformat": 4,
 "nbformat_minor": 5
}
