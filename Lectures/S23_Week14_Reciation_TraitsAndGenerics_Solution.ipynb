{
 "cells": [
  {
   "cell_type": "markdown",
   "id": "bad0c374",
   "metadata": {},
   "source": [
    "# CSCI 3155 Spring 2023\n",
    "## Recitation Week 14: Traits and Generics"
   ]
  },
  {
   "cell_type": "markdown",
   "id": "55654f6c",
   "metadata": {
    "tags": []
   },
   "source": [
    "## Traits\n",
    "\n",
    "Traits are an important mechanism for code reuse in scala. They allow us to define functionality that can be \n",
    "exported across multiple objects in the overall hierarchy. A trait is almost like an abstract class or an interface. It can define its own members and methods."
   ]
  },
  {
   "cell_type": "markdown",
   "id": "81f6b37e",
   "metadata": {
    "nbgrader": {
     "grade": false,
     "grade_id": "cell-0117fb3b4cff7be1",
     "locked": true,
     "schema_version": 3,
     "solution": false
    },
    "tags": []
   },
   "source": [
    "For this exercise, we have defined two traits: `NumberOfLegs` that helps us define how many legs a given animal has and `WarmBlooded` that applies to warm blooded animals.  We also have an abstract class `Animal` as a superclass for all animals."
   ]
  },
  {
   "cell_type": "code",
   "execution_count": 1,
   "id": "85194856",
   "metadata": {
    "nbgrader": {
     "grade": false,
     "grade_id": "cell-a6b29f417cfcdb22",
     "locked": true,
     "schema_version": 3,
     "solution": false
    }
   },
   "outputs": [
    {
     "data": {
      "text/plain": [
       "defined \u001b[32mclass\u001b[39m \u001b[36mAnimal\u001b[39m\n",
       "defined \u001b[32mtrait\u001b[39m \u001b[36mNumberOfLegs\u001b[39m\n",
       "defined \u001b[32mtrait\u001b[39m \u001b[36mWarmBlooded\u001b[39m"
      ]
     },
     "execution_count": 1,
     "metadata": {},
     "output_type": "execute_result"
    }
   ],
   "source": [
    "abstract class Animal\n",
    "\n",
    "trait NumberOfLegs {\n",
    "    val nLegs: Int\n",
    "    def getNumberOfLegs: Int = nLegs\n",
    "}\n",
    "\n",
    "trait WarmBlooded extends Animal {\n",
    "    val bodyTempMaintained: Double\n",
    "    def getBodyTemp: Double = bodyTempMaintained \n",
    "}"
   ]
  },
  {
   "cell_type": "markdown",
   "id": "11e5cb5c",
   "metadata": {
    "nbgrader": {
     "grade": false,
     "grade_id": "cell-abf7a17d89f0fb99",
     "locked": true,
     "schema_version": 3,
     "solution": false
    }
   },
   "source": [
    "### Example\n",
    "We will define a class `Human` which will extend the appropriate classes and traits defined above.\n",
    "Our class will also take in a parameter called `name` of type `String` and implement a `getName` method without any parameters.\n",
    "\n",
    "Which traits should we use for our human class? (Discuss this first then move onto the coding of the class)"
   ]
  },
  {
   "cell_type": "code",
   "execution_count": null,
   "id": "27e14281",
   "metadata": {
    "nbgrader": {
     "grade": false,
     "grade_id": "cell-e7a4a9275bd24e24",
     "locked": false,
     "schema_version": 3,
     "solution": true
    }
   },
   "outputs": [],
   "source": [
    "//BEGIN SOLUTION\n",
    "class Human(val name: String) extends WarmBlooded with NumberOfLegs {\n",
    "    override val nLegs:Int = 2\n",
    "    val bodyTempMaintained = 98.0\n",
    "    def getName: String = name\n",
    "    // below is also valid, but may change testing needs\n",
    "    // def getName(): String = name\n",
    "}\n",
    "//END SOLUTION"
   ]
  },
  {
   "cell_type": "code",
   "execution_count": null,
   "id": "bcea2be9",
   "metadata": {
    "nbgrader": {
     "grade": true,
     "grade_id": "cell-f9b7ae8902326372",
     "locked": true,
     "points": 5,
     "schema_version": 3,
     "solution": false
    }
   },
   "outputs": [],
   "source": [
    "//BEGIN TEST\n",
    "val t1 = new Human(\"Jane Smith\")\n",
    "t1.isInstanceOf[Animal]\n",
    "assert(t1.getNumberOfLegs == 2, \"Your human does not have two legs\")\n",
    "assert(t1.bodyTempMaintained == 98.0, \"Your human does not maintain a body temp of 98\")\n",
    "assert(t1.getBodyTemp == 98.0, \"Your human's getBodyTemp Function is not working\")\n",
    "assert(t1.getName == \"Jane Smith\", \"Your human's name is not setting correctly\")\n",
    "//END TEST"
   ]
  },
  {
   "cell_type": "code",
   "execution_count": 2,
   "id": "8ba8af50",
   "metadata": {},
   "outputs": [
    {
     "data": {
      "text/plain": [
       "defined \u001b[32mclass\u001b[39m \u001b[36mHuman\u001b[39m\n",
       "\u001b[36mt1\u001b[39m: \u001b[32mHuman\u001b[39m = ammonite.$sess.cmd1$Helper$Human@52d2fec6\n",
       "\u001b[36mres1_2\u001b[39m: \u001b[32mBoolean\u001b[39m = \u001b[32mtrue\u001b[39m"
      ]
     },
     "execution_count": 2,
     "metadata": {},
     "output_type": "execute_result"
    }
   ],
   "source": [
    "// ALTERNATE SOLUTION\n",
    "class Human(val name: String, \n",
    "            val nLegs: Int = 2, \n",
    "            val bodyTempMaintained: Double = 98.0) extends WarmBlooded \n",
    "        with NumberOfLegs { \n",
    "    def getName(): String = this.name\n",
    "}\n",
    "val t1 = new Human(\"Jane Smith\")\n",
    "t1.isInstanceOf[Animal]\n",
    "assert(t1.getNumberOfLegs == 2, \"Your human does not have two legs\")\n",
    "assert(t1.bodyTempMaintained == 98.0, \"Your human does not maintain a body temp of 98\")\n",
    "assert(t1.getBodyTemp == 98.0, \"Your human's getBodyTemp Function is not working\")\n",
    "assert(t1.getName == \"Jane Smith\", \"Your human's name is not setting correctly\")"
   ]
  },
  {
   "cell_type": "markdown",
   "id": "e53bba49",
   "metadata": {
    "nbgrader": {
     "grade": false,
     "grade_id": "cell-439f7e10a3556ae4",
     "locked": true,
     "schema_version": 3,
     "solution": false
    }
   },
   "source": [
    "### Exercise\n",
    "Now we will define a class named `Table`.\n",
    "\n",
    "Which of the traits and classes should we extend? (discuss this first then advance to the coding) (if someone complains about the number of legs on a table, adjust the exercise so that the table class takes in the number of legs, and update the test)"
   ]
  },
  {
   "cell_type": "code",
   "execution_count": null,
   "id": "de164d4f",
   "metadata": {
    "nbgrader": {
     "grade": false,
     "grade_id": "cell-8145df690b6f6588",
     "locked": false,
     "schema_version": 3,
     "solution": true
    }
   },
   "outputs": [],
   "source": [
    "//BEGIN SOLUTION\n",
    "class Table extends NumberOfLegs {\n",
    "    val nLegs = 4\n",
    "}\n",
    "//END SOLUTION"
   ]
  },
  {
   "cell_type": "code",
   "execution_count": null,
   "id": "d17b0453",
   "metadata": {
    "nbgrader": {
     "grade": true,
     "grade_id": "cell-d34b29b062b93894",
     "locked": true,
     "points": 5,
     "schema_version": 3,
     "solution": false
    }
   },
   "outputs": [],
   "source": [
    "//BEGIN TEST\n",
    "val tbl = new Table()\n",
    "assert(tbl.getNumberOfLegs == 4, \"A Table must have four legs\")\n",
    "//END TEST"
   ]
  },
  {
   "cell_type": "code",
   "execution_count": 3,
   "id": "199d77aa",
   "metadata": {},
   "outputs": [
    {
     "data": {
      "text/plain": [
       "defined \u001b[32mclass\u001b[39m \u001b[36mTable\u001b[39m\n",
       "\u001b[36mtbl\u001b[39m: \u001b[32mTable\u001b[39m = ammonite.$sess.cmd2$Helper$Table@6ada9223"
      ]
     },
     "execution_count": 3,
     "metadata": {},
     "output_type": "execute_result"
    }
   ],
   "source": [
    "// ALTERNATE SOLUTION\n",
    "class Table(val nLegs: Int = 4) extends NumberOfLegs\n",
    "val tbl = new Table()\n",
    "assert(tbl.getNumberOfLegs == 4, \"A Table must have four legs\")"
   ]
  },
  {
   "cell_type": "markdown",
   "id": "1cd3c851",
   "metadata": {},
   "source": [
    "## Type Casting\n",
    "We may want to do certain things based on a more precise type than a trait gives us, like only the humans in a list of instances of NumberOfLegs.\n",
    "While not as easy as pattern matching with case classes, this is possible by using the `isInstanceOf[T]` and the `asInstanceOf[T]` functions.\n",
    "\n",
    "The expression `obj.isInstanceOf[T]` returns true if `obj` is an instance of `T` and false otherwise.\n",
    "Similarly, `obj.asInstanceOf[T]` returns the same instance `obj`, but with the given type `T` (if it is an instance of `T`).\n",
    "\n",
    "### Demo\n",
    "Consider the following code and it's errors"
   ]
  },
  {
   "cell_type": "code",
   "execution_count": null,
   "id": "c150309e",
   "metadata": {},
   "outputs": [],
   "source": [
    "// // fails \n",
    "// val a0: NumberOfLegs = new Human(\"Liskov\")\n",
    "// a0.getName"
   ]
  },
  {
   "cell_type": "code",
   "execution_count": null,
   "id": "2b84578e",
   "metadata": {},
   "outputs": [],
   "source": [
    "// works\n",
    "val a0: NumberOfLegs = new Human(\"Liskov\")\n",
    "assert(a0.isInstanceOf[Human])\n",
    "val h0: Human = a0.asInstanceOf[Human]\n",
    "val name: String = h0.getName"
   ]
  },
  {
   "cell_type": "code",
   "execution_count": null,
   "id": "060657da",
   "metadata": {},
   "outputs": [],
   "source": [
    "// // fails\n",
    "// val a1: NumberOfLegs = new Table()\n",
    "// assert(a1.isInstanceOf[Human])"
   ]
  },
  {
   "cell_type": "markdown",
   "id": "48bd8206",
   "metadata": {},
   "source": [
    "### Exercise\n",
    "To try out these functions, lets write a function to get the names of all the humans in a list of instances of the NumberOfLegs trait."
   ]
  },
  {
   "cell_type": "code",
   "execution_count": null,
   "id": "6ce9e102",
   "metadata": {},
   "outputs": [],
   "source": [
    "def getNames(leggedThings : List[NumberOfLegs]): List[String] = {\n",
    "    leggedThings match {\n",
    "        case h :: t =>\n",
    "            // begin solution\n",
    "            if (h.isInstanceOf[Human]) \n",
    "                (h.asInstanceOf[Human].getName):: getNames(t)\n",
    "            else \n",
    "                getNames(t)\n",
    "            // end solution\n",
    "        case Nil => Nil\n",
    "    }\n",
    "}"
   ]
  },
  {
   "cell_type": "code",
   "execution_count": null,
   "id": "6615f8c7",
   "metadata": {},
   "outputs": [],
   "source": [
    "// TEST CASE\n",
    "val leggedThings : List[NumberOfLegs] = List(new Human(\"Charles\"), new Human(\"Sukanya\"), new Table(), new Table(), new Human(\"Abhishek\"))\n",
    "assert(getNames(leggedThings) == List(\"Charles\", \"Sukanya\", \"Abhishek\"), \"Names don't match\")"
   ]
  },
  {
   "cell_type": "code",
   "execution_count": 4,
   "id": "7bdca1b8",
   "metadata": {},
   "outputs": [
    {
     "data": {
      "text/plain": [
       "defined \u001b[32mfunction\u001b[39m \u001b[36mgetNames\u001b[39m"
      ]
     },
     "execution_count": 4,
     "metadata": {},
     "output_type": "execute_result"
    }
   ],
   "source": [
    "// Challenge option: reimplement with functors\n",
    "def getNames(leggedThings : List[NumberOfLegs]): List[String] = {\n",
    "    // begin solution\n",
    "    leggedThings filter {\n",
    "        leggedThing => leggedThing.isInstanceOf[Human]\n",
    "    } map {\n",
    "        leggedThing => leggedThing.asInstanceOf[Human]\n",
    "    } map {\n",
    "        human => human.getName\n",
    "    } \n",
    "    // end solution\n",
    "}"
   ]
  },
  {
   "cell_type": "code",
   "execution_count": 5,
   "id": "fcf1cae7",
   "metadata": {},
   "outputs": [
    {
     "data": {
      "text/plain": [
       "\u001b[36mleggedThings\u001b[39m: \u001b[32mList\u001b[39m[\u001b[32mNumberOfLegs\u001b[39m] = \u001b[33mList\u001b[39m(\n",
       "  ammonite.$sess.cmd1$Helper$Human@64995226,\n",
       "  ammonite.$sess.cmd1$Helper$Human@674fb721,\n",
       "  ammonite.$sess.cmd2$Helper$Table@4e29da44,\n",
       "  ammonite.$sess.cmd2$Helper$Table@1564ff3b,\n",
       "  ammonite.$sess.cmd1$Helper$Human@62f73263\n",
       ")"
      ]
     },
     "execution_count": 5,
     "metadata": {},
     "output_type": "execute_result"
    }
   ],
   "source": [
    "// TEST CASE\n",
    "val leggedThings : List[NumberOfLegs] = List(new Human(\"Charles\"), new Human(\"Sukanya\"), new Table(), new Table(), new Human(\"Abhishek\"))\n",
    "assert(getNames(leggedThings) == List(\"Charles\", \"Sukanya\", \"Abhishek\"), \"Names don't match\")"
   ]
  },
  {
   "cell_type": "code",
   "execution_count": 7,
   "id": "7025c628",
   "metadata": {},
   "outputs": [
    {
     "data": {
      "text/plain": [
       "defined \u001b[32mfunction\u001b[39m \u001b[36mgetNames\u001b[39m\n",
       "\u001b[36mleggedThings\u001b[39m: \u001b[32mList\u001b[39m[\u001b[32mNumberOfLegs\u001b[39m] = \u001b[33mList\u001b[39m(\n",
       "  ammonite.$sess.cmd1$Helper$Human@1a30e30d,\n",
       "  ammonite.$sess.cmd1$Helper$Human@1d054b03,\n",
       "  ammonite.$sess.cmd2$Helper$Table@760b482c,\n",
       "  ammonite.$sess.cmd2$Helper$Table@6b3ee56b,\n",
       "  ammonite.$sess.cmd1$Helper$Human@58464477\n",
       ")"
      ]
     },
     "execution_count": 7,
     "metadata": {},
     "output_type": "execute_result"
    }
   ],
   "source": [
    "// Challenge option: reimplement with functors\n",
    "// ALTERNATIVE SOLUTION\n",
    "def getNames(leggedThings : List[NumberOfLegs]): List[String] = {\n",
    "    // begin solution\n",
    "    (leggedThings foldRight[List[String]] (Nil)){\n",
    "        case (h, acc) if h.isInstanceOf[Human] => \n",
    "                h.asInstanceOf[Human].getName :: acc\n",
    "        case (_, acc) => acc\n",
    "    } \n",
    "    // end solution\n",
    "}\n",
    "// TEST CASE\n",
    "val leggedThings : List[NumberOfLegs] = List(new Human(\"Charles\"), new Human(\"Sukanya\"), new Table(), new Table(), new Human(\"Abhishek\"))\n",
    "assert(getNames(leggedThings) == List(\"Charles\", \"Sukanya\", \"Abhishek\"), \"Names don't match\")"
   ]
  },
  {
   "cell_type": "markdown",
   "id": "64845d50",
   "metadata": {
    "tags": []
   },
   "source": [
    "## Generics\n",
    "\n",
    "Generic classes and functions are classes that take a type as a parameter.\n",
    "We put these type parameters in square brackets (for example `List[String]` or `asInstanceOf[Human]` where we are passing `String` or `Human`, respectively)\n",
    "\n",
    "One common use case for generics is for collections like maps, trees, and lists.\n",
    "We will further exam generics using the example of lists."
   ]
  },
  {
   "cell_type": "markdown",
   "id": "b88d946f",
   "metadata": {},
   "source": [
    "If we wanted to define a list of integers, we could do something like this:"
   ]
  },
  {
   "cell_type": "code",
   "execution_count": null,
   "id": "8c4468b9",
   "metadata": {},
   "outputs": [],
   "source": [
    "sealed trait IntList\n",
    "case class IntNil() extends IntList\n",
    "case class IntCons(head: Int, tail: IntList) extends IntList"
   ]
  },
  {
   "cell_type": "markdown",
   "id": "e0111861",
   "metadata": {},
   "source": [
    "But what if we needed a list of strings instead?\n",
    "We could write the following:"
   ]
  },
  {
   "cell_type": "code",
   "execution_count": null,
   "id": "b9206418",
   "metadata": {},
   "outputs": [],
   "source": [
    "sealed trait StringList\n",
    "case class StringNil() extends StringList\n",
    "case class StringCons(head: String, tail: StringList) extends StringList"
   ]
  },
  {
   "cell_type": "markdown",
   "id": "3d01bbd5",
   "metadata": {},
   "source": [
    "What about booleans? Or your custom class you wrote, such as `Human` above?\n",
    "We don't want to redefine these traits and the functions that work with them everytime we need a list for a different type.\n",
    "We could define a list holding objects of type `Any` (the supertype of all types), but this has problems when we try access the objects we put in the list.\n",
    "\n",
    "Instead we use generics.\n",
    "We do this by adding type parameters to our code.\n",
    "\n",
    "Coming back to our list example, we could write it using generics as follows:"
   ]
  },
  {
   "cell_type": "code",
   "execution_count": null,
   "id": "103be515",
   "metadata": {},
   "outputs": [],
   "source": [
    "sealed trait GenericList[T]\n",
    "\n",
    "case class GenericNil[T]() extends GenericList[T]\n",
    "case class GenericCons[T](h: T, t: GenericList[T]) extends GenericList[T]"
   ]
  },
  {
   "cell_type": "markdown",
   "id": "a8372012",
   "metadata": {},
   "source": [
    "The type parameter `[T]` can be replaced with any class we want, either explicitly or by the type scala infers:"
   ]
  },
  {
   "cell_type": "code",
   "execution_count": null,
   "id": "10cb7f8b",
   "metadata": {},
   "outputs": [],
   "source": [
    "val explicit = GenericCons[String](\"hello\", GenericCons[String](\"world\", GenericNil[String]()))\n",
    "val inferred = GenericCons(\"hello\", GenericCons(\"world\", GenericNil()))"
   ]
  },
  {
   "cell_type": "code",
   "execution_count": null,
   "id": "394816b1",
   "metadata": {},
   "outputs": [],
   "source": [
    "val l = GenericCons[Integer](1, GenericNil())"
   ]
  },
  {
   "cell_type": "markdown",
   "id": "62c6dea8",
   "metadata": {},
   "source": [
    "### Exercise\n",
    "As an exercise with our `GenericList`, let's define the map function for `GenericList`s"
   ]
  },
  {
   "cell_type": "code",
   "execution_count": null,
   "id": "c4afdb8d",
   "metadata": {},
   "outputs": [],
   "source": [
    "def map[A,B](list: GenericList[A], function: (A) => B): GenericList[B] = {\n",
    "    // begin solution\n",
    "    list match {\n",
    "        case GenericCons(h, t) => GenericCons[B](function(h), map(t, function))\n",
    "        case GenericNil() => GenericNil[B]()\n",
    "    }\n",
    "    // end solution\n",
    "}"
   ]
  },
  {
   "cell_type": "code",
   "execution_count": null,
   "id": "5137ef15",
   "metadata": {},
   "outputs": [],
   "source": [
    "val newL = map[Integer, String](l, x => s\"${x}\")"
   ]
  },
  {
   "cell_type": "code",
   "execution_count": null,
   "id": "78ad5e98",
   "metadata": {},
   "outputs": [],
   "source": [
    "newL"
   ]
  },
  {
   "cell_type": "markdown",
   "id": "19447d7c",
   "metadata": {
    "tags": []
   },
   "source": [
    "### Type Bounds (If time permits)\n",
    "We can also apply restrictions on the the types used for our type parameters\n",
    "\n",
    "We can use `<:` to ensure that the type parameter is a subtype of the given type, or `:>` to ensure that the type parameter is a supertype of the given type."
   ]
  },
  {
   "cell_type": "code",
   "execution_count": null,
   "id": "9b0d0b4a",
   "metadata": {},
   "outputs": [],
   "source": [
    "sealed trait LegList[T <: NumberOfLegs]\n",
    "\n",
    "case class LegNil[T <: NumberOfLegs]() extends LegList[T]\n",
    "case class LegCons[T <: NumberOfLegs](h: T, t: LegList[T]) extends LegList[T]"
   ]
  },
  {
   "cell_type": "code",
   "execution_count": null,
   "id": "a7bb0052",
   "metadata": {},
   "outputs": [],
   "source": [
    "def countLegs[T <: NumberOfLegs](leggedThings : LegList[T]) : Int = leggedThings match {\n",
    "    case LegNil() => 0\n",
    "    case LegCons(h, t) => h.getNumberOfLegs + countLegs(t)\n",
    "}"
   ]
  },
  {
   "cell_type": "code",
   "execution_count": null,
   "id": "98b89b62",
   "metadata": {},
   "outputs": [],
   "source": [
    "def countLegs[T <: NumberOfLegs](leggedThings : List[T]): Int = {\n",
    "    leggedThings.foldLeft[Int](0)((accum, leggedThing) => accum + leggedThing.getNumberOfLegs)\n",
    "}"
   ]
  },
  {
   "cell_type": "markdown",
   "id": "7c5d0ae8",
   "metadata": {},
   "source": [
    "Note that the ever useful `foldLeft` function also has a type parameter, which lets `foldLeft` return any type we want.  Of course, the compiler usually infers the type parameter's value, so we don't need include the type."
   ]
  },
  {
   "cell_type": "markdown",
   "id": "b3bc54c8",
   "metadata": {},
   "source": [
    "## That's all folks!"
   ]
  }
 ],
 "metadata": {
  "kernelspec": {
   "display_name": "Scala 2.12",
   "language": "scala",
   "name": "scala212"
  },
  "language_info": {
   "codemirror_mode": "text/x-scala",
   "file_extension": ".scala",
   "mimetype": "text/x-scala",
   "name": "scala",
   "nbconvert_exporter": "script",
   "version": "2.12.10"
  }
 },
 "nbformat": 4,
 "nbformat_minor": 5
}
