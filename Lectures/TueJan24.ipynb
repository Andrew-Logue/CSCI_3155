{
 "cells": [
  {
   "cell_type": "markdown",
   "id": "dd3ca841-17dd-430e-b472-c485a2b1f9e2",
   "metadata": {},
   "source": [
    "## Tue Jan 24\n",
    "\n",
    "Announcement: Office hours today (see calendar) -- coding.csel.io will continue to suck for a few weeks :-(\n",
    "\n",
    "1. Constructing programs: Expressions and Program Structure \n",
    "2. Recursion  with Examples\n",
    "3. Tail Recursion\n",
    "4. Examples of converting loops into recursion/tail recursion."
   ]
  },
  {
   "cell_type": "code",
   "execution_count": 1,
   "id": "0337751a-8b65-4b75-9f30-ab2402b15c72",
   "metadata": {},
   "outputs": [
    {
     "name": "stdout",
     "output_type": "stream",
     "text": [
      "Hello World\n"
     ]
    }
   ],
   "source": [
    "println(\"Hello World\")"
   ]
  },
  {
   "cell_type": "code",
   "execution_count": 9,
   "id": "d39bec61-9397-4a85-8b87-541bcdd57856",
   "metadata": {},
   "outputs": [
    {
     "data": {
      "text/plain": [
       "defined \u001b[32mclass\u001b[39m \u001b[36mMyCat\u001b[39m"
      ]
     },
     "execution_count": 9,
     "metadata": {},
     "output_type": "execute_result"
    }
   ],
   "source": [
    "class MyCat(val age: Int, \n",
    "            val name: String, \n",
    "            val breed: String, \n",
    "            var numLives: Int = 9){\n",
    "    private var sound = \"meow\"\n",
    "    \n",
    "    def curiosity(): Unit = {numLives = numLives -1 }\n",
    "    def strepThroat(): Unit = { sound = \"mrrrrw\" }\n",
    "    def getSound: String = {return sound}\n",
    "    def setSound(new_sound: String): Unit = { sound = new_sound }\n",
    "}\n",
    "    "
   ]
  },
  {
   "cell_type": "code",
   "execution_count": 6,
   "id": "2535a6eb-4960-4adb-9333-442d7a8323ac",
   "metadata": {},
   "outputs": [
    {
     "data": {
      "text/plain": [
       "\u001b[36mmy_kitten\u001b[39m: \u001b[32mMyCat\u001b[39m = ammonite.$sess.cmd4$Helper$MyCat@2f2f5145"
      ]
     },
     "execution_count": 6,
     "metadata": {},
     "output_type": "execute_result"
    }
   ],
   "source": [
    "val my_kitten = new MyCat(1, \"Mr. Paws\", \"Siamese\", 9, \"meww\")"
   ]
  },
  {
   "cell_type": "code",
   "execution_count": 7,
   "id": "6c74bca7-ac9c-430c-9c61-9dd256b6250a",
   "metadata": {},
   "outputs": [
    {
     "data": {
      "text/plain": [
       "\u001b[36mres6\u001b[39m: \u001b[32mInt\u001b[39m = \u001b[32m1\u001b[39m"
      ]
     },
     "execution_count": 7,
     "metadata": {},
     "output_type": "execute_result"
    }
   ],
   "source": [
    "my_kitten.age"
   ]
  },
  {
   "cell_type": "code",
   "execution_count": 7,
   "id": "c8f57f22-6436-4ca6-ab5d-9df0059dc29a",
   "metadata": {},
   "outputs": [
    {
     "name": "stderr",
     "output_type": "stream",
     "text": [
      "cmd7.sc:1: variable sound in class MyCat cannot be accessed as a member of ammonite.$sess.cmd5.wrapper.cmd4.MyCat from class Helper in class cmd7\n",
      "val res7 = my_kitten.sound\n",
      "                     ^Compilation Failed"
     ]
    },
    {
     "ename": "",
     "evalue": "",
     "output_type": "error",
     "traceback": [
      "Compilation Failed"
     ]
    }
   ],
   "source": [
    "my_kitten.sound"
   ]
  },
  {
   "cell_type": "code",
   "execution_count": 10,
   "id": "14748a11-6c17-43c6-9ab3-f54ec10fbc22",
   "metadata": {},
   "outputs": [
    {
     "data": {
      "text/plain": [
       "defined \u001b[32mfunction\u001b[39m \u001b[36mexample_fun\u001b[39m"
      ]
     },
     "execution_count": 10,
     "metadata": {},
     "output_type": "execute_result"
    }
   ],
   "source": [
    "def example_fun(x: Int) : Int = {\n",
    " \n",
    "    if (x == 0){\n",
    "        return 0\n",
    "    }\n",
    "    \n",
    "    if (x >= 1){\n",
    "        return x + 1\n",
    "    } \n",
    "    \n",
    "    return 1 - x;\n",
    "}"
   ]
  },
  {
   "cell_type": "code",
   "execution_count": 12,
   "id": "cb0b07dd-bc26-47fb-995f-04df55b181ff",
   "metadata": {},
   "outputs": [
    {
     "data": {
      "text/plain": [
       "defined \u001b[32mfunction\u001b[39m \u001b[36mexample_fun1\u001b[39m"
      ]
     },
     "execution_count": 12,
     "metadata": {},
     "output_type": "execute_result"
    }
   ],
   "source": [
    "def example_fun1(x: Int) : Int = {\n",
    "    if (x == 0){\n",
    "        0\n",
    "    } else {\n",
    "        if (x >= 1){\n",
    "            x + 1\n",
    "        } else {\n",
    "            1 - x\n",
    "        }  \n",
    "    }\n",
    "    /* Will never get here */\n",
    "}"
   ]
  },
  {
   "cell_type": "markdown",
   "id": "401ad66c-d599-42a4-80a2-575601591dde",
   "metadata": {},
   "source": [
    "\n",
    "$$f(x) = \\left\\{ \\begin{array}{ll}\n",
    "   \\sin(2x) & if\\ x <= 2 \\pi\\\\ \n",
    "   \\cos(x/2) & \\text{otherwise} \\\\ \n",
    "\\end{array}\\right.$$"
   ]
  },
  {
   "cell_type": "code",
   "execution_count": 13,
   "id": "849f4cc9-2d24-45a7-bbe6-29be2e3709c2",
   "metadata": {},
   "outputs": [
    {
     "data": {
      "text/plain": [
       "defined \u001b[32mfunction\u001b[39m \u001b[36mf\u001b[39m"
      ]
     },
     "execution_count": 13,
     "metadata": {},
     "output_type": "execute_result"
    }
   ],
   "source": [
    "def f(x: Double) : Double = {\n",
    "  if (x <= 2.0 * 3.1415 ) {\n",
    "     return math.sin(2.0 * x)   \n",
    "  }\n",
    "  return math.cos(x/2.0)\n",
    "}"
   ]
  },
  {
   "cell_type": "code",
   "execution_count": 14,
   "id": "31a4b6c6-23ea-4107-8904-0b4753132d60",
   "metadata": {},
   "outputs": [
    {
     "data": {
      "text/plain": [
       "defined \u001b[32mfunction\u001b[39m \u001b[36mf\u001b[39m"
      ]
     },
     "execution_count": 14,
     "metadata": {},
     "output_type": "execute_result"
    }
   ],
   "source": [
    "def f(x: Double): Double = {\n",
    "    // Expression : ( x <= ...) ? sin(2x) : cos(x/2)\n",
    "    // e1 ; e2\n",
    "    if (x <= 2.0* 3.1415){\n",
    "        math.sin(2.0 * x) \n",
    "    } else {\n",
    "        math.cos(x/2.0)\n",
    "    }\n",
    "}"
   ]
  },
  {
   "cell_type": "code",
   "execution_count": 16,
   "id": "333a0a11-3fdf-4483-9a4f-ea75cc7bcf27",
   "metadata": {},
   "outputs": [
    {
     "data": {
      "text/plain": [
       "defined \u001b[32mfunction\u001b[39m \u001b[36mfactorial\u001b[39m"
      ]
     },
     "execution_count": 16,
     "metadata": {},
     "output_type": "execute_result"
    }
   ],
   "source": [
    "def factorial(x: Int): Int= {\n",
    "        if (x <= 0){\n",
    "            1\n",
    "        } else {\n",
    "            x * factorial(x -1)// tail??\n",
    "        }\n",
    "}"
   ]
  },
  {
   "cell_type": "code",
   "execution_count": 17,
   "id": "63b42320-c802-4141-955c-25d2b6e41c12",
   "metadata": {},
   "outputs": [
    {
     "data": {
      "text/plain": [
       "defined \u001b[32mfunction\u001b[39m \u001b[36mlength\u001b[39m"
      ]
     },
     "execution_count": 17,
     "metadata": {},
     "output_type": "execute_result"
    }
   ],
   "source": [
    "def length(lst:List[Int]): Int = {\n",
    "    if (lst == Nil){\n",
    "        0\n",
    "    } else{\n",
    "        1 + length(lst.tail)\n",
    "    }\n",
    "}"
   ]
  },
  {
   "cell_type": "code",
   "execution_count": 18,
   "id": "a5909248-7f88-40cc-9ce2-64d1bb930f0c",
   "metadata": {},
   "outputs": [
    {
     "data": {
      "text/plain": [
       "defined \u001b[32mfunction\u001b[39m \u001b[36mfibonacci\u001b[39m"
      ]
     },
     "execution_count": 18,
     "metadata": {},
     "output_type": "execute_result"
    }
   ],
   "source": [
    "def fibonacci(n: Int): Int = {\n",
    "  if ( n <= 1){\n",
    "    1   \n",
    "  } else {\n",
    "    // fibonacci(n-1) + fibonacci(n-2)\n",
    "      val n1 = fibonacci(n-1)\n",
    "      val n2 = fibonacci(n-2)\n",
    "      n1 + n2\n",
    "  }\n",
    "    \n",
    "}"
   ]
  },
  {
   "cell_type": "code",
   "execution_count": 19,
   "id": "377b35ee-be62-4d72-99ba-0d3f2c3a7691",
   "metadata": {},
   "outputs": [
    {
     "data": {
      "text/plain": [
       "defined \u001b[32mfunction\u001b[39m \u001b[36mfactorialTail\u001b[39m"
      ]
     },
     "execution_count": 19,
     "metadata": {},
     "output_type": "execute_result"
    }
   ],
   "source": [
    "def factorialTail(x: Int, y: Int): Int= {\n",
    "        if (x <= 0){\n",
    "            y\n",
    "        } else {\n",
    "            factorialTail(x-1, y *x) // tail call => it's return value is returned as is \n",
    "        }\n",
    "}"
   ]
  },
  {
   "cell_type": "code",
   "execution_count": null,
   "id": "ae77971b-25d6-4966-81f3-ab4294196bcb",
   "metadata": {},
   "outputs": [],
   "source": []
  }
 ],
 "metadata": {
  "kernelspec": {
   "display_name": "Python 3 (ipykernel)",
   "language": "python",
   "name": "python3"
  },
  "language_info": {
   "codemirror_mode": {
    "name": "ipython",
    "version": 3
   },
   "file_extension": ".py",
   "mimetype": "text/x-python",
   "name": "python",
   "nbconvert_exporter": "python",
   "pygments_lexer": "ipython3",
   "version": "3.10.8"
  }
 },
 "nbformat": 4,
 "nbformat_minor": 5
}
