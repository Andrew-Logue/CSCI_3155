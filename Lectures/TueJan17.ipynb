{
 "cells": [
  {
   "cell_type": "markdown",
   "id": "69e15494",
   "metadata": {},
   "source": [
    "# Principles of Programming Languages \n",
    "\n",
    "  - What is a programming language?\n",
    "  - What are principles?\n",
    "  - Tale of two PLs.\n",
    "  \n",
    "\n"
   ]
  },
  {
   "cell_type": "markdown",
   "id": "7914f513",
   "metadata": {},
   "source": [
    "~~~\n",
    "for i in range(100):\n",
    "  i = i - 1\n",
    "~~~\n",
    "\n",
    "~~~\n",
    "int i = 0;\n",
    "for (i = 0; i < 100; i++){\n",
    "  i = i -1 \n",
    "}\n",
    "~~~\n"
   ]
  },
  {
   "cell_type": "code",
   "execution_count": 5,
   "id": "e61808f3",
   "metadata": {},
   "outputs": [
    {
     "data": {
      "text/plain": [
       "\u001b[36mx\u001b[39m: \u001b[32mInt\u001b[39m = \u001b[32m10\u001b[39m"
      ]
     },
     "execution_count": 5,
     "metadata": {},
     "output_type": "execute_result"
    }
   ],
   "source": [
    "val x: Int = 10 // const int x = 10"
   ]
  },
  {
   "cell_type": "code",
   "execution_count": 6,
   "id": "ddbc4ffd",
   "metadata": {},
   "outputs": [
    {
     "name": "stdout",
     "output_type": "stream",
     "text": [
      "hello world!\n"
     ]
    }
   ],
   "source": [
    "println(\"hello world!\")"
   ]
  },
  {
   "cell_type": "code",
   "execution_count": 7,
   "id": "041be408",
   "metadata": {},
   "outputs": [
    {
     "name": "stdout",
     "output_type": "stream",
     "text": [
      "10\n"
     ]
    }
   ],
   "source": [
    "println(x)"
   ]
  },
  {
   "cell_type": "code",
   "execution_count": 8,
   "id": "ee3e471e",
   "metadata": {},
   "outputs": [
    {
     "data": {
      "text/html": [
       "<div class=\"jp-RenderedText\">\n",
       "<pre><code><span style=\"color: rgb(0, 187, 187)\"><span class=\"ansi-cyan-fg\">y</span></span>: <span style=\"color: rgb(0, 187, 0)\"><span class=\"ansi-green-fg\">Int</span></span> = <span style=\"color: rgb(0, 187, 0)\"><span class=\"ansi-green-fg\">12</span></span>\n",
       "<span style=\"color: rgb(0, 187, 187)\"><span class=\"ansi-cyan-fg\">z</span></span>: <span style=\"color: rgb(0, 187, 0)\"><span class=\"ansi-green-fg\">Int</span></span> = <style>@keyframes fadein { from { opacity: 0; } to { opacity: 1; } }</style><span style=\"animation: fadein 2s;\"><span style=\"color: rgb(0, 187, 0)\"><span class=\"ansi-green-fg\">16</span></span></span></code></pre>\n",
       "</div>"
      ],
      "text/plain": [
       "\u001b[36my\u001b[39m: \u001b[32mInt\u001b[39m = \u001b[32m12\u001b[39m\n",
       "\u001b[36mz\u001b[39m: \u001b[32mInt\u001b[39m = \u001b[32m16\u001b[39m"
      ]
     },
     "metadata": {},
     "output_type": "display_data"
    }
   ],
   "source": [
    "val y : Int = 12\n",
    "var z : Int = 13"
   ]
  },
  {
   "cell_type": "code",
   "execution_count": 8,
   "id": "5e7d632a",
   "metadata": {},
   "outputs": [
    {
     "name": "stderr",
     "output_type": "stream",
     "text": [
      "cmd8.sc:1: reassignment to val\n",
      "val res8 = y = 16\n",
      "             ^Compilation Failed"
     ]
    },
    {
     "ename": "",
     "evalue": "",
     "output_type": "error",
     "traceback": [
      "Compilation Failed"
     ]
    }
   ],
   "source": [
    "y = 16"
   ]
  },
  {
   "cell_type": "code",
   "execution_count": 9,
   "id": "bb773db2",
   "metadata": {},
   "outputs": [],
   "source": [
    "z = 16"
   ]
  },
  {
   "cell_type": "code",
   "execution_count": 10,
   "id": "a24481d4",
   "metadata": {},
   "outputs": [
    {
     "name": "stdout",
     "output_type": "stream",
     "text": [
      "16\n"
     ]
    }
   ],
   "source": [
    "println(z)"
   ]
  },
  {
   "cell_type": "code",
   "execution_count": 10,
   "id": "a1e5ad66",
   "metadata": {},
   "outputs": [
    {
     "name": "stderr",
     "output_type": "stream",
     "text": [
      "cmd10.sc:2: y is already defined as value y\n",
      "    val y = 13\n",
      "        ^Compilation Failed"
     ]
    },
    {
     "ename": "",
     "evalue": "",
     "output_type": "error",
     "traceback": [
      "Compilation Failed"
     ]
    }
   ],
   "source": [
    "{\n",
    "    val y = 10\n",
    "    val y = 13\n",
    "    \n",
    "}"
   ]
  },
  {
   "cell_type": "code",
   "execution_count": 11,
   "id": "e3ec2443",
   "metadata": {},
   "outputs": [
    {
     "data": {
      "text/html": [
       "<div class=\"jp-RenderedText\">\n",
       "<pre><code><span style=\"color: rgb(0, 187, 187)\"><span class=\"ansi-cyan-fg\">y</span></span>: <span style=\"color: rgb(0, 187, 0)\"><span class=\"ansi-green-fg\">Int</span></span> = <span style=\"color: rgb(0, 187, 0)\"><span class=\"ansi-green-fg\">11</span></span></code></pre>\n",
       "</div>"
      ],
      "text/plain": [
       "\u001b[36my\u001b[39m: \u001b[32mInt\u001b[39m = \u001b[32m11\u001b[39m"
      ]
     },
     "metadata": {},
     "output_type": "display_data"
    }
   ],
   "source": [
    "var y = 10\n",
    "y = y +1 "
   ]
  },
  {
   "cell_type": "code",
   "execution_count": 12,
   "id": "f3086aae",
   "metadata": {},
   "outputs": [
    {
     "data": {
      "text/plain": [
       "\u001b[36my\u001b[39m: \u001b[32mInt\u001b[39m = \u001b[32m10\u001b[39m"
      ]
     },
     "execution_count": 12,
     "metadata": {},
     "output_type": "execute_result"
    }
   ],
   "source": [
    "val y = 10"
   ]
  },
  {
   "cell_type": "code",
   "execution_count": 13,
   "id": "e14f6afb",
   "metadata": {},
   "outputs": [
    {
     "data": {
      "text/plain": [
       "\u001b[36my\u001b[39m: \u001b[32mInt\u001b[39m = \u001b[32m14\u001b[39m"
      ]
     },
     "execution_count": 13,
     "metadata": {},
     "output_type": "execute_result"
    }
   ],
   "source": [
    "val y = 14"
   ]
  },
  {
   "cell_type": "code",
   "execution_count": 20,
   "id": "81d0a4bb",
   "metadata": {},
   "outputs": [
    {
     "name": "stderr",
     "output_type": "stream",
     "text": [
      "cmd20.sc:2: value F is not a member of Int\n",
      "val z : Float = 10 F\n",
      "                   ^Compilation Failed"
     ]
    },
    {
     "ename": "",
     "evalue": "",
     "output_type": "error",
     "traceback": [
      "Compilation Failed"
     ]
    }
   ],
   "source": [
    "val y : Int = 10\n",
    "val z : Float = 10F\n",
    "val g:           Double = 10f .toDouble"
   ]
  },
  {
   "cell_type": "code",
   "execution_count": 21,
   "id": "ce8e85ea",
   "metadata": {},
   "outputs": [
    {
     "data": {
      "text/plain": [
       "\u001b[36ms\u001b[39m: \u001b[32mString\u001b[39m = \u001b[32m\"hkhkhkh\"\u001b[39m"
      ]
     },
     "execution_count": 21,
     "metadata": {},
     "output_type": "execute_result"
    }
   ],
   "source": [
    "val s: String = \"hkhkhkh\""
   ]
  },
  {
   "cell_type": "code",
   "execution_count": 22,
   "id": "b8879090",
   "metadata": {},
   "outputs": [
    {
     "data": {
      "text/plain": [
       "\u001b[36mc\u001b[39m: \u001b[32mChar\u001b[39m = \u001b[32m'h'\u001b[39m"
      ]
     },
     "execution_count": 22,
     "metadata": {},
     "output_type": "execute_result"
    }
   ],
   "source": [
    "val c: Char = 'h'"
   ]
  },
  {
   "cell_type": "code",
   "execution_count": 23,
   "id": "104ecc5e",
   "metadata": {},
   "outputs": [
    {
     "data": {
      "text/plain": [
       "\u001b[36mb\u001b[39m: \u001b[32mBoolean\u001b[39m = true"
      ]
     },
     "execution_count": 23,
     "metadata": {},
     "output_type": "execute_result"
    }
   ],
   "source": [
    "val b: Boolean = true "
   ]
  },
  {
   "cell_type": "code",
   "execution_count": 24,
   "id": "4c37c40f",
   "metadata": {},
   "outputs": [
    {
     "data": {
      "text/plain": [
       "\u001b[36mb2\u001b[39m: \u001b[32mBoolean\u001b[39m = false"
      ]
     },
     "execution_count": 24,
     "metadata": {},
     "output_type": "execute_result"
    }
   ],
   "source": [
    "val b2: Boolean = false"
   ]
  },
  {
   "cell_type": "code",
   "execution_count": 1,
   "id": "3cfe8879",
   "metadata": {},
   "outputs": [
    {
     "ename": "",
     "evalue": "",
     "output_type": "error",
     "traceback": [
      "\u001b[31mjava.lang.NumberFormatException: For input string: \"hello_19999\"\u001b[39m\n  java.lang.NumberFormatException.forInputString(\u001b[32mNumberFormatException.java\u001b[39m:\u001b[32m68\u001b[39m)\n  java.lang.Integer.parseInt(\u001b[32mInteger.java\u001b[39m:\u001b[32m652\u001b[39m)\n  java.lang.Integer.parseInt(\u001b[32mInteger.java\u001b[39m:\u001b[32m770\u001b[39m)\n  scala.collection.StringOps$.toInt$extension(\u001b[32mStringOps.scala\u001b[39m:\u001b[32m889\u001b[39m)\n  ammonite.$sess.cmd0$Helper.<init>(\u001b[32mcmd0.sc\u001b[39m:\u001b[32m2\u001b[39m)\n  ammonite.$sess.cmd0$.<clinit>(\u001b[32mcmd0.sc\u001b[39m:\u001b[32m7\u001b[39m)"
     ]
    }
   ],
   "source": [
    "val s: String = \"hello_19999\"\n",
    "val t: Int = s.toInt"
   ]
  },
  {
   "cell_type": "code",
   "execution_count": 2,
   "id": "4eb29f3e",
   "metadata": {},
   "outputs": [
    {
     "data": {
      "text/plain": [
       "defined \u001b[32mfunction\u001b[39m \u001b[36mhelloWorldFunction\u001b[39m"
      ]
     },
     "execution_count": 2,
     "metadata": {},
     "output_type": "execute_result"
    }
   ],
   "source": [
    "def helloWorldFunction(who: String) : String = {\n",
    "    /* Body of the function */\n",
    "    val retValue = \"Hello World:\" + who + \"!!\";\n",
    "    println(retValue);\n",
    "    return retValue;\n",
    "}\n"
   ]
  },
  {
   "cell_type": "code",
   "execution_count": 3,
   "id": "970e4884",
   "metadata": {},
   "outputs": [
    {
     "name": "stdout",
     "output_type": "stream",
     "text": [
      "Hello World:CSCI 3155!!\n"
     ]
    },
    {
     "data": {
      "text/plain": [
       "\u001b[36mres2\u001b[39m: \u001b[32mString\u001b[39m = \u001b[32m\"Hello World:CSCI 3155!!\"\u001b[39m"
      ]
     },
     "execution_count": 3,
     "metadata": {},
     "output_type": "execute_result"
    }
   ],
   "source": [
    "helloWorldFunction(\"CSCI 3155\")"
   ]
  },
  {
   "cell_type": "code",
   "execution_count": 2,
   "id": "52fbcc1d",
   "metadata": {},
   "outputs": [
    {
     "name": "stdout",
     "output_type": "stream",
     "text": [
      "0\n",
      "1\n",
      "2\n",
      "3\n",
      "4\n",
      "5\n",
      "6\n",
      "7\n",
      "8\n",
      "9\n",
      "10\n"
     ]
    }
   ],
   "source": [
    "for (i <- 0 to 10) {\n",
    "      println(i)\n",
    "}"
   ]
  },
  {
   "cell_type": "code",
   "execution_count": 4,
   "id": "e4e79e8e-6353-4db8-85ca-4bf61f583645",
   "metadata": {},
   "outputs": [
    {
     "name": "stderr",
     "output_type": "stream",
     "text": [
      "cmd4.sc:7: type mismatch;\n",
      " found   : String(\"Hello\")\n",
      " required: Int\n",
      "val z = new MyPreciousObject(\"Hello\", 20 )\n",
      "                             ^cmd4.sc:7: type mismatch;\n",
      " found   : Int(20)\n",
      " required: String\n",
      "val z = new MyPreciousObject(\"Hello\", 20 )\n",
      "                                      ^Compilation Failed"
     ]
    },
    {
     "ename": "",
     "evalue": "",
     "output_type": "error",
     "traceback": [
      "Compilation Failed"
     ]
    }
   ],
   "source": [
    "class MyPreciousObject  (x: Int, y: String) {\n",
    "\n",
    "         def returnXY() =  x + y \n",
    "\n",
    "}\n",
    "\n",
    "val z = new MyPreciousObject(\"Hello\", 20 )\n",
    "\n",
    "z.returnXY()\n"
   ]
  },
  {
   "cell_type": "code",
   "execution_count": null,
   "id": "c438a95f-9953-47c3-8fc7-0089964d28e6",
   "metadata": {},
   "outputs": [],
   "source": []
  }
 ],
 "metadata": {
  "kernelspec": {
   "display_name": "Python 3 (ipykernel)",
   "language": "python",
   "name": "python3"
  },
  "language_info": {
   "codemirror_mode": {
    "name": "ipython",
    "version": 3
   },
   "file_extension": ".py",
   "mimetype": "text/x-python",
   "name": "python",
   "nbconvert_exporter": "python",
   "pygments_lexer": "ipython3",
   "version": "3.10.8"
  }
 },
 "nbformat": 4,
 "nbformat_minor": 5
}
