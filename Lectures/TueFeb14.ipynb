{
 "cells": [
  {
   "cell_type": "code",
   "execution_count": 2,
   "id": "529218e4",
   "metadata": {},
   "outputs": [
    {
     "data": {
      "text/plain": [
       "defined \u001b[32mfunction\u001b[39m \u001b[36mapplyToAllElements\u001b[39m"
      ]
     },
     "execution_count": 2,
     "metadata": {},
     "output_type": "execute_result"
    }
   ],
   "source": [
    "\n",
    "def applyToAllElements(lst: List[Int], f: Int => Int) : List[Int] = {\n",
    "    /* apply f to every element of the list */\n",
    "    var resultList: List[Int] = Nil\n",
    "    for (elt <- lst){\n",
    "        resultList = (f(elt))::resultList \n",
    "    }\n",
    "    resultList.reverse\n",
    "}"
   ]
  },
  {
   "cell_type": "code",
   "execution_count": 3,
   "id": "268582ec",
   "metadata": {},
   "outputs": [
    {
     "data": {
      "text/plain": [
       "defined \u001b[32mfunction\u001b[39m \u001b[36mapplyMap\u001b[39m"
      ]
     },
     "execution_count": 3,
     "metadata": {},
     "output_type": "execute_result"
    }
   ],
   "source": [
    "def applyMap(lst: List[Int], f: Int => Int) : List[Int] = {\n",
    "    lst.map (f)\n",
    "}"
   ]
  },
  {
   "cell_type": "code",
   "execution_count": 4,
   "id": "4907e514",
   "metadata": {},
   "outputs": [
    {
     "data": {
      "text/plain": [
       "\u001b[36mlst\u001b[39m: \u001b[32mList\u001b[39m[\u001b[32mInt\u001b[39m] = \u001b[33mList\u001b[39m(\u001b[32m1\u001b[39m, \u001b[32m2\u001b[39m, \u001b[32m3\u001b[39m, \u001b[32m4\u001b[39m, \u001b[32m6\u001b[39m)\n",
       "defined \u001b[32mfunction\u001b[39m \u001b[36msquare\u001b[39m\n",
       "\u001b[36mres3_2\u001b[39m: \u001b[32mList\u001b[39m[\u001b[32mInt\u001b[39m] = \u001b[33mList\u001b[39m(\u001b[32m1\u001b[39m, \u001b[32m4\u001b[39m, \u001b[32m9\u001b[39m, \u001b[32m16\u001b[39m, \u001b[32m36\u001b[39m)"
      ]
     },
     "execution_count": 4,
     "metadata": {},
     "output_type": "execute_result"
    }
   ],
   "source": [
    "val lst = List(1, 2, 3, 4, 6)\n",
    "def square(x: Int): Int = x*x\n",
    "\n",
    "applyMap(lst, square)"
   ]
  },
  {
   "cell_type": "code",
   "execution_count": 5,
   "id": "2dd10980",
   "metadata": {},
   "outputs": [
    {
     "data": {
      "text/plain": [
       "\u001b[36mhunThouList\u001b[39m: \u001b[32mList\u001b[39m[\u001b[32mInt\u001b[39m] = \u001b[33mList\u001b[39m(\n",
       "  \u001b[32m1\u001b[39m,\n",
       "  \u001b[32m2\u001b[39m,\n",
       "  \u001b[32m3\u001b[39m,\n",
       "  \u001b[32m4\u001b[39m,\n",
       "  \u001b[32m5\u001b[39m,\n",
       "  \u001b[32m6\u001b[39m,\n",
       "  \u001b[32m7\u001b[39m,\n",
       "  \u001b[32m8\u001b[39m,\n",
       "  \u001b[32m9\u001b[39m,\n",
       "  \u001b[32m10\u001b[39m,\n",
       "  \u001b[32m11\u001b[39m,\n",
       "  \u001b[32m12\u001b[39m,\n",
       "  \u001b[32m13\u001b[39m,\n",
       "  \u001b[32m14\u001b[39m,\n",
       "  \u001b[32m15\u001b[39m,\n",
       "  \u001b[32m16\u001b[39m,\n",
       "  \u001b[32m17\u001b[39m,\n",
       "  \u001b[32m18\u001b[39m,\n",
       "  \u001b[32m19\u001b[39m,\n",
       "  \u001b[32m20\u001b[39m,\n",
       "  \u001b[32m21\u001b[39m,\n",
       "  \u001b[32m22\u001b[39m,\n",
       "  \u001b[32m23\u001b[39m,\n",
       "  \u001b[32m24\u001b[39m,\n",
       "  \u001b[32m25\u001b[39m,\n",
       "  \u001b[32m26\u001b[39m,\n",
       "  \u001b[32m27\u001b[39m,\n",
       "  \u001b[32m28\u001b[39m,\n",
       "  \u001b[32m29\u001b[39m,\n",
       "  \u001b[32m30\u001b[39m,\n",
       "  \u001b[32m31\u001b[39m,\n",
       "  \u001b[32m32\u001b[39m,\n",
       "  \u001b[32m33\u001b[39m,\n",
       "  \u001b[32m34\u001b[39m,\n",
       "  \u001b[32m35\u001b[39m,\n",
       "  \u001b[32m36\u001b[39m,\n",
       "  \u001b[32m37\u001b[39m,\n",
       "  \u001b[32m38\u001b[39m,\n",
       "..."
      ]
     },
     "execution_count": 5,
     "metadata": {},
     "output_type": "execute_result"
    }
   ],
   "source": [
    "val hunThouList = (1 to 100000).toList"
   ]
  },
  {
   "cell_type": "code",
   "execution_count": 6,
   "id": "b7a504cc",
   "metadata": {},
   "outputs": [
    {
     "data": {
      "text/plain": [
       "\u001b[36mres5\u001b[39m: \u001b[32mList\u001b[39m[\u001b[32mInt\u001b[39m] = \u001b[33mList\u001b[39m(\n",
       "  \u001b[32m1\u001b[39m,\n",
       "  \u001b[32m4\u001b[39m,\n",
       "  \u001b[32m9\u001b[39m,\n",
       "  \u001b[32m16\u001b[39m,\n",
       "  \u001b[32m25\u001b[39m,\n",
       "  \u001b[32m36\u001b[39m,\n",
       "  \u001b[32m49\u001b[39m,\n",
       "  \u001b[32m64\u001b[39m,\n",
       "  \u001b[32m81\u001b[39m,\n",
       "  \u001b[32m100\u001b[39m,\n",
       "  \u001b[32m121\u001b[39m,\n",
       "  \u001b[32m144\u001b[39m,\n",
       "  \u001b[32m169\u001b[39m,\n",
       "  \u001b[32m196\u001b[39m,\n",
       "  \u001b[32m225\u001b[39m,\n",
       "  \u001b[32m256\u001b[39m,\n",
       "  \u001b[32m289\u001b[39m,\n",
       "  \u001b[32m324\u001b[39m,\n",
       "  \u001b[32m361\u001b[39m,\n",
       "  \u001b[32m400\u001b[39m,\n",
       "  \u001b[32m441\u001b[39m,\n",
       "  \u001b[32m484\u001b[39m,\n",
       "  \u001b[32m529\u001b[39m,\n",
       "  \u001b[32m576\u001b[39m,\n",
       "  \u001b[32m625\u001b[39m,\n",
       "  \u001b[32m676\u001b[39m,\n",
       "  \u001b[32m729\u001b[39m,\n",
       "  \u001b[32m784\u001b[39m,\n",
       "  \u001b[32m841\u001b[39m,\n",
       "  \u001b[32m900\u001b[39m,\n",
       "  \u001b[32m961\u001b[39m,\n",
       "  \u001b[32m1024\u001b[39m,\n",
       "  \u001b[32m1089\u001b[39m,\n",
       "  \u001b[32m1156\u001b[39m,\n",
       "  \u001b[32m1225\u001b[39m,\n",
       "  \u001b[32m1296\u001b[39m,\n",
       "  \u001b[32m1369\u001b[39m,\n",
       "  \u001b[32m1444\u001b[39m,\n",
       "..."
      ]
     },
     "execution_count": 6,
     "metadata": {},
     "output_type": "execute_result"
    }
   ],
   "source": [
    "applyToAllElements(hunThouList, square)"
   ]
  },
  {
   "cell_type": "code",
   "execution_count": 8,
   "id": "28f34d02",
   "metadata": {},
   "outputs": [
    {
     "data": {
      "text/plain": [
       "\u001b[36mres7\u001b[39m: \u001b[32mList\u001b[39m[\u001b[32mInt\u001b[39m] = \u001b[33mList\u001b[39m(\n",
       "  \u001b[32m1\u001b[39m,\n",
       "  \u001b[32m4\u001b[39m,\n",
       "  \u001b[32m9\u001b[39m,\n",
       "  \u001b[32m16\u001b[39m,\n",
       "  \u001b[32m25\u001b[39m,\n",
       "  \u001b[32m36\u001b[39m,\n",
       "  \u001b[32m49\u001b[39m,\n",
       "  \u001b[32m64\u001b[39m,\n",
       "  \u001b[32m81\u001b[39m,\n",
       "  \u001b[32m100\u001b[39m,\n",
       "  \u001b[32m121\u001b[39m,\n",
       "  \u001b[32m144\u001b[39m,\n",
       "  \u001b[32m169\u001b[39m,\n",
       "  \u001b[32m196\u001b[39m,\n",
       "  \u001b[32m225\u001b[39m,\n",
       "  \u001b[32m256\u001b[39m,\n",
       "  \u001b[32m289\u001b[39m,\n",
       "  \u001b[32m324\u001b[39m,\n",
       "  \u001b[32m361\u001b[39m,\n",
       "  \u001b[32m400\u001b[39m,\n",
       "  \u001b[32m441\u001b[39m,\n",
       "  \u001b[32m484\u001b[39m,\n",
       "  \u001b[32m529\u001b[39m,\n",
       "  \u001b[32m576\u001b[39m,\n",
       "  \u001b[32m625\u001b[39m,\n",
       "  \u001b[32m676\u001b[39m,\n",
       "  \u001b[32m729\u001b[39m,\n",
       "  \u001b[32m784\u001b[39m,\n",
       "  \u001b[32m841\u001b[39m,\n",
       "  \u001b[32m900\u001b[39m,\n",
       "  \u001b[32m961\u001b[39m,\n",
       "  \u001b[32m1024\u001b[39m,\n",
       "  \u001b[32m1089\u001b[39m,\n",
       "  \u001b[32m1156\u001b[39m,\n",
       "  \u001b[32m1225\u001b[39m,\n",
       "  \u001b[32m1296\u001b[39m,\n",
       "  \u001b[32m1369\u001b[39m,\n",
       "  \u001b[32m1444\u001b[39m,\n",
       "..."
      ]
     },
     "execution_count": 8,
     "metadata": {},
     "output_type": "execute_result"
    }
   ],
   "source": [
    "applyMap(hunThouList, square)"
   ]
  },
  {
   "cell_type": "code",
   "execution_count": 11,
   "id": "601e8698",
   "metadata": {},
   "outputs": [
    {
     "data": {
      "text/plain": [
       "defined \u001b[32mfunction\u001b[39m \u001b[36mmoreComplicatedFun\u001b[39m"
      ]
     },
     "execution_count": 11,
     "metadata": {},
     "output_type": "execute_result"
    }
   ],
   "source": [
    "def moreComplicatedFun(x: Int): Int = x match {\n",
    "    case y if y <= 10 => 1\n",
    "    case z if z <= 20 => 2\n",
    "    case _ => 3\n",
    "}\n"
   ]
  },
  {
   "cell_type": "code",
   "execution_count": 10,
   "id": "c40bde72",
   "metadata": {},
   "outputs": [
    {
     "data": {
      "text/plain": [
       "\u001b[36mres9\u001b[39m: \u001b[32mList\u001b[39m[\u001b[32mInt\u001b[39m] = \u001b[33mList\u001b[39m(\n",
       "  \u001b[32m1\u001b[39m,\n",
       "  \u001b[32m1\u001b[39m,\n",
       "  \u001b[32m1\u001b[39m,\n",
       "  \u001b[32m1\u001b[39m,\n",
       "  \u001b[32m1\u001b[39m,\n",
       "  \u001b[32m1\u001b[39m,\n",
       "  \u001b[32m1\u001b[39m,\n",
       "  \u001b[32m1\u001b[39m,\n",
       "  \u001b[32m1\u001b[39m,\n",
       "  \u001b[32m1\u001b[39m,\n",
       "  \u001b[32m2\u001b[39m,\n",
       "  \u001b[32m2\u001b[39m,\n",
       "  \u001b[32m2\u001b[39m,\n",
       "  \u001b[32m2\u001b[39m,\n",
       "  \u001b[32m2\u001b[39m,\n",
       "  \u001b[32m2\u001b[39m,\n",
       "  \u001b[32m2\u001b[39m,\n",
       "  \u001b[32m2\u001b[39m,\n",
       "  \u001b[32m2\u001b[39m,\n",
       "  \u001b[32m2\u001b[39m,\n",
       "  \u001b[32m3\u001b[39m,\n",
       "  \u001b[32m3\u001b[39m,\n",
       "  \u001b[32m3\u001b[39m,\n",
       "  \u001b[32m3\u001b[39m,\n",
       "  \u001b[32m3\u001b[39m,\n",
       "  \u001b[32m3\u001b[39m,\n",
       "  \u001b[32m3\u001b[39m,\n",
       "  \u001b[32m3\u001b[39m,\n",
       "  \u001b[32m3\u001b[39m,\n",
       "  \u001b[32m3\u001b[39m,\n",
       "  \u001b[32m3\u001b[39m,\n",
       "  \u001b[32m3\u001b[39m,\n",
       "  \u001b[32m3\u001b[39m,\n",
       "  \u001b[32m3\u001b[39m,\n",
       "  \u001b[32m3\u001b[39m,\n",
       "  \u001b[32m3\u001b[39m,\n",
       "  \u001b[32m3\u001b[39m,\n",
       "  \u001b[32m3\u001b[39m,\n",
       "..."
      ]
     },
     "execution_count": 10,
     "metadata": {},
     "output_type": "execute_result"
    }
   ],
   "source": [
    "applyMap(hunThouList, moreComplicatedFun)"
   ]
  },
  {
   "cell_type": "code",
   "execution_count": 12,
   "id": "0168d448",
   "metadata": {},
   "outputs": [
    {
     "data": {
      "text/plain": [
       "defined \u001b[32mfunction\u001b[39m \u001b[36misDivisibleByThree\u001b[39m\n",
       "\u001b[36mres11_1\u001b[39m: \u001b[32mList\u001b[39m[\u001b[32mInt\u001b[39m] = \u001b[33mList\u001b[39m(\n",
       "  \u001b[32m3\u001b[39m,\n",
       "  \u001b[32m6\u001b[39m,\n",
       "  \u001b[32m9\u001b[39m,\n",
       "  \u001b[32m12\u001b[39m,\n",
       "  \u001b[32m15\u001b[39m,\n",
       "  \u001b[32m18\u001b[39m,\n",
       "  \u001b[32m21\u001b[39m,\n",
       "  \u001b[32m24\u001b[39m,\n",
       "  \u001b[32m27\u001b[39m,\n",
       "  \u001b[32m30\u001b[39m,\n",
       "  \u001b[32m33\u001b[39m,\n",
       "  \u001b[32m36\u001b[39m,\n",
       "  \u001b[32m39\u001b[39m,\n",
       "  \u001b[32m42\u001b[39m,\n",
       "  \u001b[32m45\u001b[39m,\n",
       "  \u001b[32m48\u001b[39m,\n",
       "  \u001b[32m51\u001b[39m,\n",
       "  \u001b[32m54\u001b[39m,\n",
       "  \u001b[32m57\u001b[39m,\n",
       "  \u001b[32m60\u001b[39m,\n",
       "  \u001b[32m63\u001b[39m,\n",
       "  \u001b[32m66\u001b[39m,\n",
       "  \u001b[32m69\u001b[39m,\n",
       "  \u001b[32m72\u001b[39m,\n",
       "  \u001b[32m75\u001b[39m,\n",
       "  \u001b[32m78\u001b[39m,\n",
       "  \u001b[32m81\u001b[39m,\n",
       "  \u001b[32m84\u001b[39m,\n",
       "  \u001b[32m87\u001b[39m,\n",
       "  \u001b[32m90\u001b[39m,\n",
       "  \u001b[32m93\u001b[39m,\n",
       "  \u001b[32m96\u001b[39m,\n",
       "  \u001b[32m99\u001b[39m,\n",
       "  \u001b[32m102\u001b[39m,\n",
       "  \u001b[32m105\u001b[39m,\n",
       "  \u001b[32m108\u001b[39m,\n",
       "  \u001b[32m111\u001b[39m,\n",
       "  \u001b[32m114\u001b[39m,\n",
       "..."
      ]
     },
     "execution_count": 12,
     "metadata": {},
     "output_type": "execute_result"
    }
   ],
   "source": [
    "def isDivisibleByThree(x: Int) : Boolean = (x%3 == 0)\n",
    "hunThouList.filter( isDivisibleByThree )"
   ]
  },
  {
   "cell_type": "code",
   "execution_count": 13,
   "id": "8166515e",
   "metadata": {},
   "outputs": [
    {
     "data": {
      "text/plain": [
       "defined \u001b[32mfunction\u001b[39m \u001b[36msum\u001b[39m"
      ]
     },
     "execution_count": 13,
     "metadata": {},
     "output_type": "execute_result"
    }
   ],
   "source": [
    "def sum(acc: Int, elt: Int) :Int = acc + elt"
   ]
  },
  {
   "cell_type": "code",
   "execution_count": 14,
   "id": "3ec243e3",
   "metadata": {},
   "outputs": [
    {
     "data": {
      "text/plain": [
       "\u001b[36mres13\u001b[39m: \u001b[32mInt\u001b[39m = \u001b[32m705082704\u001b[39m"
      ]
     },
     "execution_count": 14,
     "metadata": {},
     "output_type": "execute_result"
    }
   ],
   "source": [
    "hunThouList.foldLeft (0)(sum)"
   ]
  },
  {
   "cell_type": "code",
   "execution_count": 16,
   "id": "c1ac2e50",
   "metadata": {},
   "outputs": [
    {
     "data": {
      "text/plain": [
       "\u001b[36mlst\u001b[39m: \u001b[32mList\u001b[39m[\u001b[32mInt\u001b[39m] = \u001b[33mList\u001b[39m(\u001b[32m1\u001b[39m, \u001b[32m4\u001b[39m, \u001b[32m7\u001b[39m, \u001b[32m11\u001b[39m, \u001b[32m15\u001b[39m)\n",
       "\u001b[36minitialValue\u001b[39m: \u001b[32mString\u001b[39m = \u001b[32m\"\"\u001b[39m\n",
       "defined \u001b[32mfunction\u001b[39m \u001b[36maccFun\u001b[39m\n",
       "\u001b[36mres15_3\u001b[39m: \u001b[32mString\u001b[39m = \u001b[32m\"hello: 1,hello: 4,hello: 7,hello: 11,hello: 15,\"\u001b[39m"
      ]
     },
     "execution_count": 16,
     "metadata": {},
     "output_type": "execute_result"
    }
   ],
   "source": [
    "val lst = List(1, 4, 7, 11, 15)\n",
    "val initialValue: String = \"\"\n",
    "def accFun(acc:String, elt: Int) : String = {\n",
    "    acc + \"hello: \" + elt.toString + \",\"\n",
    "}\n",
    "\n",
    "lst.foldLeft (initialValue) (accFun)"
   ]
  },
  {
   "cell_type": "code",
   "execution_count": 17,
   "id": "01d6ce0d",
   "metadata": {},
   "outputs": [
    {
     "data": {
      "text/plain": [
       "defined \u001b[32mfunction\u001b[39m \u001b[36msayHelloToEveryone\u001b[39m"
      ]
     },
     "execution_count": 17,
     "metadata": {},
     "output_type": "execute_result"
    }
   ],
   "source": [
    "def sayHelloToEveryone(lst: List[Int]): String = {\n",
    "    if (lst.length == 0) {\n",
    "        \"\"\n",
    "    } else if (lst.length == 1) {\n",
    "        \"hello: \" + lst.head.toString\n",
    "    } else {\n",
    "        val hd = lst.head\n",
    "        val tailList = lst.tail\n",
    "        val initialValue = \"hello: \"+ hd.toString\n",
    "        def accFun(acc: String, elt: Int) : String = {\n",
    "            acc + \", \" + \"hello:\" + elt.toString\n",
    "        }\n",
    "        tailList.foldLeft (initialValue) (accFun)\n",
    "    }\n",
    "\n",
    "}"
   ]
  },
  {
   "cell_type": "code",
   "execution_count": 18,
   "id": "6ad9b82e",
   "metadata": {},
   "outputs": [
    {
     "data": {
      "text/plain": [
       "\u001b[36mlst\u001b[39m: \u001b[32mList\u001b[39m[\u001b[32mInt\u001b[39m] = \u001b[33mList\u001b[39m(\u001b[32m1\u001b[39m, \u001b[32m4\u001b[39m, \u001b[32m7\u001b[39m, \u001b[32m11\u001b[39m, \u001b[32m15\u001b[39m)\n",
       "\u001b[36mres17_1\u001b[39m: \u001b[32mString\u001b[39m = \u001b[32m\"hello: 1, hello:4, hello:7, hello:11, hello:15\"\u001b[39m"
      ]
     },
     "execution_count": 18,
     "metadata": {},
     "output_type": "execute_result"
    }
   ],
   "source": [
    "val lst = List(1, 4, 7, 11, 15)\n",
    "sayHelloToEveryone(lst)"
   ]
  },
  {
   "cell_type": "code",
   "execution_count": 31,
   "id": "96b10ecf",
   "metadata": {},
   "outputs": [
    {
     "data": {
      "text/plain": [
       "defined \u001b[32mfunction\u001b[39m \u001b[36msumOfSquares\u001b[39m"
      ]
     },
     "execution_count": 31,
     "metadata": {},
     "output_type": "execute_result"
    }
   ],
   "source": [
    "// 1^2 + 2^2 + 3^2 + ... + n^2\n",
    "def sumOfSquares(n: Int) : Int = {\n",
    "   // def square(x: Int): Int = x*x\n",
    " //def sum(acc: Int, elt: Int) :Int = acc + elt\n",
    "   // def divByThree(x: Int): Boolean = x % 3 == 0\n",
    "    (1 to n).toList\n",
    "            .filterNot( _ %3 == 0)\n",
    "            .map( (x:Int)  => x*x )\n",
    "            .foldLeft (1) ( (acc:Int, elt:Int) => (acc * elt) )\n",
    "}"
   ]
  },
  {
   "cell_type": "code",
   "execution_count": 22,
   "id": "46d6ef7c",
   "metadata": {},
   "outputs": [
    {
     "data": {
      "text/plain": [
       "\u001b[36mres21\u001b[39m: \u001b[32mInt\u001b[39m = \u001b[32m111277611\u001b[39m"
      ]
     },
     "execution_count": 22,
     "metadata": {},
     "output_type": "execute_result"
    }
   ],
   "source": [
    "sumOfSquares(1000)"
   ]
  },
  {
   "cell_type": "code",
   "execution_count": 32,
   "id": "8aff24a4",
   "metadata": {},
   "outputs": [
    {
     "data": {
      "text/plain": [
       "\u001b[36mfun\u001b[39m: \u001b[32mInt\u001b[39m => \u001b[32mInt\u001b[39m = ammonite.$sess.cmd31$Helper$$Lambda$2392/0x000000080163e840@1048eec8"
      ]
     },
     "execution_count": 32,
     "metadata": {},
     "output_type": "execute_result"
    }
   ],
   "source": [
    "val fun: Int => Int =  (x:Int) => {\n",
    "    if (x <= 10) { 15 } else { 45 }\n",
    "}\n",
    "\n",
    "// def fun(x: Int) : Int = {...}"
   ]
  },
  {
   "cell_type": "code",
   "execution_count": 33,
   "id": "b069ac8e",
   "metadata": {},
   "outputs": [
    {
     "data": {
      "text/plain": [
       "\u001b[36mres32\u001b[39m: \u001b[32mList\u001b[39m[\u001b[32mInt\u001b[39m] = \u001b[33mList\u001b[39m(\n",
       "  \u001b[32m15\u001b[39m,\n",
       "  \u001b[32m15\u001b[39m,\n",
       "  \u001b[32m15\u001b[39m,\n",
       "  \u001b[32m15\u001b[39m,\n",
       "  \u001b[32m15\u001b[39m,\n",
       "  \u001b[32m15\u001b[39m,\n",
       "  \u001b[32m15\u001b[39m,\n",
       "  \u001b[32m15\u001b[39m,\n",
       "  \u001b[32m15\u001b[39m,\n",
       "  \u001b[32m15\u001b[39m,\n",
       "  \u001b[32m45\u001b[39m,\n",
       "  \u001b[32m45\u001b[39m,\n",
       "  \u001b[32m45\u001b[39m,\n",
       "  \u001b[32m45\u001b[39m,\n",
       "  \u001b[32m45\u001b[39m,\n",
       "  \u001b[32m45\u001b[39m,\n",
       "  \u001b[32m45\u001b[39m,\n",
       "  \u001b[32m45\u001b[39m,\n",
       "  \u001b[32m45\u001b[39m,\n",
       "  \u001b[32m45\u001b[39m,\n",
       "  \u001b[32m45\u001b[39m,\n",
       "  \u001b[32m45\u001b[39m,\n",
       "  \u001b[32m45\u001b[39m,\n",
       "  \u001b[32m45\u001b[39m,\n",
       "  \u001b[32m45\u001b[39m,\n",
       "  \u001b[32m45\u001b[39m,\n",
       "  \u001b[32m45\u001b[39m,\n",
       "  \u001b[32m45\u001b[39m,\n",
       "  \u001b[32m45\u001b[39m,\n",
       "  \u001b[32m45\u001b[39m,\n",
       "  \u001b[32m45\u001b[39m,\n",
       "  \u001b[32m45\u001b[39m,\n",
       "  \u001b[32m45\u001b[39m,\n",
       "  \u001b[32m45\u001b[39m,\n",
       "  \u001b[32m45\u001b[39m,\n",
       "  \u001b[32m45\u001b[39m,\n",
       "  \u001b[32m45\u001b[39m,\n",
       "  \u001b[32m45\u001b[39m,\n",
       "..."
      ]
     },
     "execution_count": 33,
     "metadata": {},
     "output_type": "execute_result"
    }
   ],
   "source": [
    "hunThouList.map(fun)"
   ]
  },
  {
   "cell_type": "code",
   "execution_count": 34,
   "id": "5eb88de7",
   "metadata": {},
   "outputs": [
    {
     "data": {
      "text/plain": [
       "defined \u001b[32mfunction\u001b[39m \u001b[36mfun\u001b[39m"
      ]
     },
     "execution_count": 34,
     "metadata": {},
     "output_type": "execute_result"
    }
   ],
   "source": [
    "def fun(x: Int, y: String, z: String) : String = {\n",
    "    if (x <= 0){\n",
    "        y \n",
    "    } else {\n",
    "        z\n",
    "    }\n",
    "}"
   ]
  },
  {
   "cell_type": "code",
   "execution_count": 35,
   "id": "120a65fb",
   "metadata": {},
   "outputs": [
    {
     "data": {
      "text/plain": [
       "\u001b[36mfun\u001b[39m: (\u001b[32mInt\u001b[39m, \u001b[32mString\u001b[39m, \u001b[32mString\u001b[39m) => \u001b[32mString\u001b[39m = ammonite.$sess.cmd34$Helper$$Lambda$2405/0x000000080164a040@ddd0d5c"
      ]
     },
     "execution_count": 35,
     "metadata": {},
     "output_type": "execute_result"
    }
   ],
   "source": [
    "val fun : (Int, String, String) => String = \n",
    "(x:Int, y: String, z:String) => {\n",
    "     if (x <= 0){\n",
    "        y \n",
    "    } else {\n",
    "        z\n",
    "    }\n",
    "}"
   ]
  },
  {
   "cell_type": "code",
   "execution_count": null,
   "id": "003c9c2d",
   "metadata": {},
   "outputs": [],
   "source": [
    "Cl()"
   ]
  }
 ],
 "metadata": {
  "kernelspec": {
   "display_name": "Scala 2.12",
   "language": "scala",
   "name": "scala212"
  },
  "language_info": {
   "codemirror_mode": "text/x-scala",
   "file_extension": ".scala",
   "mimetype": "text/x-scala",
   "name": "scala",
   "nbconvert_exporter": "script",
   "version": "2.12.10"
  }
 },
 "nbformat": 4,
 "nbformat_minor": 5
}
